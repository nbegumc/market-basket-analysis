{
  "nbformat": 4,
  "nbformat_minor": 0,
  "metadata": {
    "colab": {
      "name": "Final_Project_MBA",
      "provenance": [],
      "collapsed_sections": [],
      "authorship_tag": "ABX9TyMdTbYLZ3E5oJWgLaXpAoZ6",
      "include_colab_link": true
    },
    "kernelspec": {
      "name": "python3",
      "display_name": "Python 3"
    },
    "language_info": {
      "name": "python"
    }
  },
  "cells": [
    {
      "cell_type": "markdown",
      "metadata": {
        "id": "view-in-github",
        "colab_type": "text"
      },
      "source": [
        "<a href=\"https://colab.research.google.com/github/nbegumc/market-basket-analysis/blob/master/Final_Project_MBA.ipynb\" target=\"_parent\"><img src=\"https://colab.research.google.com/assets/colab-badge.svg\" alt=\"Open In Colab\"/></a>"
      ]
    },
    {
      "cell_type": "markdown",
      "metadata": {
        "id": "4L8_jtpzNhWn"
      },
      "source": [
        "# **Algorithms for Massive Data** / 2020-21 <br>\n",
        "  ## Master in Data Science and Economics <br>\n",
        "     Nazli Begum Cirpanli - 942345\n",
        "\n",
        "> # **Market-basket Analysis**\n",
        " \n",
        "\n"
      ]
    },
    {
      "cell_type": "markdown",
      "metadata": {
        "id": "XY4-9hTsP18i"
      },
      "source": [
        "**Installing Spark and importing necessary libraries**"
      ]
    },
    {
      "cell_type": "code",
      "metadata": {
        "colab": {
          "base_uri": "https://localhost:8080/"
        },
        "id": "xmPJPTBWjc2d",
        "outputId": "5bd5aa1e-ca83-4af3-eef5-e47a01ad4c9d"
      },
      "source": [
        "!pip install pyspark\n",
        "from pyspark import SparkConf, SparkContext\n",
        "from pyspark.sql import SparkSession"
      ],
      "execution_count": 1,
      "outputs": [
        {
          "output_type": "stream",
          "name": "stdout",
          "text": [
            "Collecting pyspark\n",
            "  Downloading pyspark-3.1.2.tar.gz (212.4 MB)\n",
            "\u001b[K     |████████████████████████████████| 212.4 MB 64 kB/s \n",
            "\u001b[?25hCollecting py4j==0.10.9\n",
            "  Downloading py4j-0.10.9-py2.py3-none-any.whl (198 kB)\n",
            "\u001b[K     |████████████████████████████████| 198 kB 50.7 MB/s \n",
            "\u001b[?25hBuilding wheels for collected packages: pyspark\n",
            "  Building wheel for pyspark (setup.py) ... \u001b[?25l\u001b[?25hdone\n",
            "  Created wheel for pyspark: filename=pyspark-3.1.2-py2.py3-none-any.whl size=212880768 sha256=38ea6e86b247658efbe08a52f1dd3d3ece055ab8f9aa76d184a118b5de00b8c7\n",
            "  Stored in directory: /root/.cache/pip/wheels/a5/0a/c1/9561f6fecb759579a7d863dcd846daaa95f598744e71b02c77\n",
            "Successfully built pyspark\n",
            "Installing collected packages: py4j, pyspark\n",
            "Successfully installed py4j-0.10.9 pyspark-3.1.2\n"
          ]
        }
      ]
    },
    {
      "cell_type": "code",
      "metadata": {
        "id": "HbAcwEBIjkNT"
      },
      "source": [
        "MAX_MEMORY = \"5g\"\n",
        "spark = SparkSession.builder.config(\"spark.executor.memory\", MAX_MEMORY).config(\"spark.driver.memory\", MAX_MEMORY).enableHiveSupport().getOrCreate()"
      ],
      "execution_count": 2,
      "outputs": []
    },
    {
      "cell_type": "code",
      "metadata": {
        "id": "mOy9SdK2jmy0"
      },
      "source": [
        "import pyspark\n",
        "sc=spark.sparkContext"
      ],
      "execution_count": 3,
      "outputs": []
    },
    {
      "cell_type": "code",
      "metadata": {
        "id": "ACLQ3WVZjmvc"
      },
      "source": [
        "from pyspark.sql import functions as f\n",
        "import pandas as pd\n",
        "import numpy as np\n",
        "import itertools\n",
        "import matplotlib.pyplot as plt"
      ],
      "execution_count": 4,
      "outputs": []
    },
    {
      "cell_type": "markdown",
      "metadata": {
        "id": "D_mQ7DkvjsG3"
      },
      "source": [
        "**IMPORTING DATA**\n",
        "\n",
        "Importing the «IMDB» dataset available on Kaggle."
      ]
    },
    {
      "cell_type": "code",
      "metadata": {
        "colab": {
          "base_uri": "https://localhost:8080/"
        },
        "id": "E_7prbz_jmsE",
        "outputId": "ffc57c2d-b712-45b3-f63b-43411f542a65"
      },
      "source": [
        "!pip install kaggle"
      ],
      "execution_count": 5,
      "outputs": [
        {
          "output_type": "stream",
          "name": "stdout",
          "text": [
            "Requirement already satisfied: kaggle in /usr/local/lib/python3.7/dist-packages (1.5.12)\n",
            "Requirement already satisfied: six>=1.10 in /usr/local/lib/python3.7/dist-packages (from kaggle) (1.15.0)\n",
            "Requirement already satisfied: tqdm in /usr/local/lib/python3.7/dist-packages (from kaggle) (4.62.2)\n",
            "Requirement already satisfied: python-dateutil in /usr/local/lib/python3.7/dist-packages (from kaggle) (2.8.2)\n",
            "Requirement already satisfied: python-slugify in /usr/local/lib/python3.7/dist-packages (from kaggle) (5.0.2)\n",
            "Requirement already satisfied: urllib3 in /usr/local/lib/python3.7/dist-packages (from kaggle) (1.24.3)\n",
            "Requirement already satisfied: requests in /usr/local/lib/python3.7/dist-packages (from kaggle) (2.23.0)\n",
            "Requirement already satisfied: certifi in /usr/local/lib/python3.7/dist-packages (from kaggle) (2021.5.30)\n",
            "Requirement already satisfied: text-unidecode>=1.3 in /usr/local/lib/python3.7/dist-packages (from python-slugify->kaggle) (1.3)\n",
            "Requirement already satisfied: idna<3,>=2.5 in /usr/local/lib/python3.7/dist-packages (from requests->kaggle) (2.10)\n",
            "Requirement already satisfied: chardet<4,>=3.0.2 in /usr/local/lib/python3.7/dist-packages (from requests->kaggle) (3.0.4)\n"
          ]
        }
      ]
    },
    {
      "cell_type": "code",
      "metadata": {
        "colab": {
          "resources": {
            "http://localhost:8080/nbextensions/google.colab/files.js": {
              "data": "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",
              "ok": true,
              "headers": [
                [
                  "content-type",
                  "application/javascript"
                ]
              ],
              "status": 200,
              "status_text": ""
            }
          },
          "base_uri": "https://localhost:8080/",
          "height": 89
        },
        "id": "fHz5s1Qdjmo_",
        "outputId": "538b7e30-2ddd-467b-dfd5-574a355d7b5c"
      },
      "source": [
        "from google.colab import files\n",
        "files.upload()"
      ],
      "execution_count": 6,
      "outputs": [
        {
          "output_type": "display_data",
          "data": {
            "text/html": [
              "\n",
              "     <input type=\"file\" id=\"files-39bdbd6b-00f1-450d-9f31-4ffc575c2f83\" name=\"files[]\" multiple disabled\n",
              "        style=\"border:none\" />\n",
              "     <output id=\"result-39bdbd6b-00f1-450d-9f31-4ffc575c2f83\">\n",
              "      Upload widget is only available when the cell has been executed in the\n",
              "      current browser session. Please rerun this cell to enable.\n",
              "      </output>\n",
              "      <script src=\"/nbextensions/google.colab/files.js\"></script> "
            ],
            "text/plain": [
              "<IPython.core.display.HTML object>"
            ]
          },
          "metadata": {}
        },
        {
          "output_type": "stream",
          "name": "stdout",
          "text": [
            "Saving kaggle.json to kaggle.json\n"
          ]
        },
        {
          "output_type": "execute_result",
          "data": {
            "text/plain": [
              "{'kaggle.json': b'{\"username\":\"nazlbe\",\"key\":\"91a835680d578840698c3fa308f3eaee\"}'}"
            ]
          },
          "metadata": {},
          "execution_count": 6
        }
      ]
    },
    {
      "cell_type": "code",
      "metadata": {
        "id": "KM_3a5y-jmmW"
      },
      "source": [
        "!pip install -q kaggle\n",
        "!mkdir -p ~/.kaggle\n",
        "!cp kaggle.json ~/.kaggle/"
      ],
      "execution_count": 7,
      "outputs": []
    },
    {
      "cell_type": "code",
      "metadata": {
        "colab": {
          "base_uri": "https://localhost:8080/"
        },
        "id": "2LPIW3vljmjY",
        "outputId": "d34943d2-ece5-448f-8d2e-1a6653a4c0ff"
      },
      "source": [
        "!kaggle datasets download -d ashirwadsangwan/imdb-dataset"
      ],
      "execution_count": 8,
      "outputs": [
        {
          "output_type": "stream",
          "name": "stdout",
          "text": [
            "Warning: Your Kaggle API key is readable by other users on this system! To fix this, you can run 'chmod 600 /root/.kaggle/kaggle.json'\n",
            "Downloading imdb-dataset.zip to /content\n",
            "100% 1.44G/1.44G [00:13<00:00, 107MB/s]\n",
            "100% 1.44G/1.44G [00:13<00:00, 114MB/s]\n"
          ]
        }
      ]
    },
    {
      "cell_type": "code",
      "metadata": {
        "id": "xlThHbOEjmgR",
        "colab": {
          "base_uri": "https://localhost:8080/"
        },
        "outputId": "471193cb-3184-40de-8f15-5ed6afed3bd9"
      },
      "source": [
        "!unzip imdb-dataset.zip"
      ],
      "execution_count": 9,
      "outputs": [
        {
          "output_type": "stream",
          "name": "stdout",
          "text": [
            "Archive:  imdb-dataset.zip\n",
            "  inflating: name.basics.tsv.gz      \n",
            "  inflating: name.basics.tsv/name.basics.tsv  \n",
            "  inflating: title.akas.tsv.gz       \n",
            "  inflating: title.akas.tsv/title.akas.tsv  \n",
            "  inflating: title.basics.tsv.gz     \n",
            "  inflating: title.basics.tsv/title.basics.tsv  \n",
            "  inflating: title.principals.tsv.gz  \n",
            "  inflating: title.principals.tsv/title.principals.tsv  \n",
            "  inflating: title.ratings.tsv.gz    \n",
            "  inflating: title.ratings.tsv/title.ratings.tsv  \n"
          ]
        }
      ]
    },
    {
      "cell_type": "code",
      "metadata": {
        "colab": {
          "base_uri": "https://localhost:8080/"
        },
        "id": "_OFFXBdbkDZH",
        "outputId": "a478deea-497e-469c-d3ba-34852da2fec1"
      },
      "source": [
        "# checking whether all the files have been downloaded to the directory\n",
        "!ls"
      ],
      "execution_count": 10,
      "outputs": [
        {
          "output_type": "stream",
          "name": "stdout",
          "text": [
            "imdb-dataset.zip    title.akas.tsv\t  title.principals.tsv.gz\n",
            "kaggle.json\t    title.akas.tsv.gz\t  title.ratings.tsv\n",
            "name.basics.tsv     title.basics.tsv\t  title.ratings.tsv.gz\n",
            "name.basics.tsv.gz  title.basics.tsv.gz\n",
            "sample_data\t    title.principals.tsv\n"
          ]
        }
      ]
    },
    {
      "cell_type": "code",
      "metadata": {
        "id": "NqA5rx-mRNa3"
      },
      "source": [
        "# reading the necessary files and creating temporary tables\n",
        "\n",
        "# considering movies as baskets and actors as items, frequent itemsets will be found. Hence, files containing information about \n",
        "# people and movies will be kept:\n",
        "\n",
        "# names, basics and principals"
      ],
      "execution_count": null,
      "outputs": []
    },
    {
      "cell_type": "code",
      "metadata": {
        "id": "raasl0sCkDV_"
      },
      "source": [
        "names= spark.read.csv(\"/content/name.basics.tsv/name.basics.tsv\",sep='\\t', header=True, inferSchema=True)\n",
        "basics=spark.read.csv(\"/content/title.basics.tsv/title.basics.tsv\",sep='\\t',header=True, inferSchema=True)\n",
        "principals=spark.read.csv(\"/content/title.principals.tsv/title.principals.tsv\",sep='\\t',header=True, inferSchema=True)\n",
        "\n"
      ],
      "execution_count": 11,
      "outputs": []
    },
    {
      "cell_type": "code",
      "metadata": {
        "id": "lcpPIi60kDTA"
      },
      "source": [
        "names.createOrReplaceTempView(\"names\")\n",
        "basics.createOrReplaceTempView(\"basics\")\n",
        "principals.createOrReplaceTempView(\"principals\")\n"
      ],
      "execution_count": 12,
      "outputs": []
    },
    {
      "cell_type": "markdown",
      "metadata": {
        "id": "JYrr29bHhldH"
      },
      "source": [
        "**EXPLORATORY ANALYSIS**\n",
        "\n",
        "Exploring the data contained in the files and basic visualisations."
      ]
    },
    {
      "cell_type": "code",
      "metadata": {
        "colab": {
          "base_uri": "https://localhost:8080/"
        },
        "id": "C4nbh8_pkDQb",
        "outputId": "97732f7c-bd34-4c40-e324-3a88e5d8923a"
      },
      "source": [
        "names.show(n=5, truncate=False)"
      ],
      "execution_count": 13,
      "outputs": [
        {
          "output_type": "stream",
          "name": "stdout",
          "text": [
            "+---------+---------------+---------+---------+------------------------------+---------------------------------------+\n",
            "|nconst   |primaryName    |birthYear|deathYear|primaryProfession             |knownForTitles                         |\n",
            "+---------+---------------+---------+---------+------------------------------+---------------------------------------+\n",
            "|nm0000001|Fred Astaire   |1899     |1987     |soundtrack,actor,miscellaneous|tt0050419,tt0053137,tt0072308,tt0043044|\n",
            "|nm0000002|Lauren Bacall  |1924     |2014     |actress,soundtrack            |tt0071877,tt0117057,tt0038355,tt0037382|\n",
            "|nm0000003|Brigitte Bardot|1934     |\\N       |actress,soundtrack,producer   |tt0054452,tt0049189,tt0059956,tt0057345|\n",
            "|nm0000004|John Belushi   |1949     |1982     |actor,writer,soundtrack       |tt0077975,tt0072562,tt0080455,tt0078723|\n",
            "|nm0000005|Ingmar Bergman |1918     |2007     |writer,director,actor         |tt0069467,tt0050976,tt0083922,tt0050986|\n",
            "+---------+---------------+---------+---------+------------------------------+---------------------------------------+\n",
            "only showing top 5 rows\n",
            "\n"
          ]
        }
      ]
    },
    {
      "cell_type": "code",
      "metadata": {
        "id": "eVjjMiccO8Jl"
      },
      "source": [
        "# from the names file, people whose primary profession is either actor or actress are filtered\n",
        "actors=names.filter((f.array_contains(f.array(names.primaryProfession),\"actor\"))|(f.array_contains(f.array(names.primaryProfession),\"actress\")))"
      ],
      "execution_count": 14,
      "outputs": []
    },
    {
      "cell_type": "code",
      "metadata": {
        "colab": {
          "base_uri": "https://localhost:8080/"
        },
        "id": "1zUjVbjPQRsn",
        "outputId": "7ea01eda-2bad-44e5-dbf9-8c3aaae543e7"
      },
      "source": [
        "actors.show(n=10,truncate=False)"
      ],
      "execution_count": null,
      "outputs": [
        {
          "output_type": "stream",
          "name": "stdout",
          "text": [
            "+---------+-----------------+---------+---------+-----------------+---------------------------------------+\n",
            "|nconst   |primaryName      |birthYear|deathYear|primaryProfession|knownForTitles                         |\n",
            "+---------+-----------------+---------+---------+-----------------+---------------------------------------+\n",
            "|nm0000084|Li Gong          |1965     |\\N       |actress          |tt0473444,tt0101640,tt0397535,tt0430357|\n",
            "|nm0000109|Yasmine Bleeth   |1968     |\\N       |actress          |tt0131857,tt0115285,tt0337851,tt0119271|\n",
            "|nm0000124|Jennifer Connelly|1970     |\\N       |actress          |tt0315983,tt0180093,tt0268978,tt0102803|\n",
            "|nm0000143|Erika Eleniak    |1969     |\\N       |actress          |tt0083866,tt0094761,tt0106400,tt0105690|\n",
            "|nm0000157|Linda Hamilton   |1956     |\\N       |actress          |tt0103064,tt6450804,tt0088247,tt0118928|\n",
            "|nm0000266|Ursula Andress   |1936     |\\N       |actress          |tt0061452,tt0055928,tt0082186,tt0060177|\n",
            "|nm0000282|Scott Bairstow   |1970     |\\N       |actor            |tt0283084,tt0182587,tt0120512,tt0119925|\n",
            "|nm0000283|Brenda Bakke     |1963     |\\N       |actress          |tt0114608,tt0107144,tt0119488,tt0114781|\n",
            "|nm0000314|Charles Bronson  |1921     |2003     |actor            |tt0064116,tt0054047,tt0057115,tt0071402|\n",
            "|nm0000319|Yancy Butler     |1970     |\\N       |actress          |tt0107076,tt0274298,tt1250777,tt1650554|\n",
            "+---------+-----------------+---------+---------+-----------------+---------------------------------------+\n",
            "only showing top 10 rows\n",
            "\n"
          ]
        }
      ]
    },
    {
      "cell_type": "code",
      "metadata": {
        "colab": {
          "base_uri": "https://localhost:8080/"
        },
        "id": "r-7Ej_VNQkTU",
        "outputId": "80732f96-b765-47e8-add1-be738c7c411d"
      },
      "source": [
        "# have a look at the names\n",
        "actors.select('primaryName').distinct().show()"
      ],
      "execution_count": null,
      "outputs": [
        {
          "output_type": "stream",
          "name": "stdout",
          "text": [
            "+---------------+\n",
            "|    primaryName|\n",
            "+---------------+\n",
            "|     Lex Barker|\n",
            "| Lisa Cangelosi|\n",
            "|      Bob Aaron|\n",
            "|   Claire Abbey|\n",
            "|  Dorothy Adams|\n",
            "|    Yashaw Adem|\n",
            "|Michaela Adkins|\n",
            "|    Bryen Adler|\n",
            "| Barbara Adolph|\n",
            "|  Débora Adorno|\n",
            "| Philippe Aerts|\n",
            "| Hamilton Agben|\n",
            "| Anders Ahlberg|\n",
            "| Sadie Ahnedova|\n",
            "|    Ann Ainslee|\n",
            "|    Noe Akimoto|\n",
            "|     Joe Akonor|\n",
            "|  Hasan Akyurek|\n",
            "|     Jess Alvan|\n",
            "|   Rosa Alberti|\n",
            "+---------------+\n",
            "only showing top 20 rows\n",
            "\n"
          ]
        }
      ]
    },
    {
      "cell_type": "code",
      "metadata": {
        "colab": {
          "base_uri": "https://localhost:8080/"
        },
        "id": "39ikE3cMQ0PI",
        "outputId": "c3992c95-aa6b-4ba7-eeeb-e1407660c7a0"
      },
      "source": [
        "# The number of all actors and actresses\n",
        "actors.select('nconst').distinct().count()"
      ],
      "execution_count": null,
      "outputs": [
        {
          "output_type": "execute_result",
          "data": {
            "text/plain": [
              "2914287"
            ]
          },
          "metadata": {},
          "execution_count": 22
        }
      ]
    },
    {
      "cell_type": "code",
      "metadata": {
        "id": "vqcOnhNlhynp"
      },
      "source": [
        "# from the Basics table, rows which have the titleType=movie are filtered"
      ],
      "execution_count": null,
      "outputs": []
    },
    {
      "cell_type": "code",
      "metadata": {
        "colab": {
          "base_uri": "https://localhost:8080/"
        },
        "id": "Dzuw-zZPPmxW",
        "outputId": "57f29b94-6d24-4c77-ee69-087a718986a4"
      },
      "source": [
        "basics.show(n=5, truncate=False)"
      ],
      "execution_count": 15,
      "outputs": [
        {
          "output_type": "stream",
          "name": "stdout",
          "text": [
            "+---------+---------+----------------------+----------------------+-------+---------+-------+--------------+------------------------+\n",
            "|tconst   |titleType|primaryTitle          |originalTitle         |isAdult|startYear|endYear|runtimeMinutes|genres                  |\n",
            "+---------+---------+----------------------+----------------------+-------+---------+-------+--------------+------------------------+\n",
            "|tt0000001|short    |Carmencita            |Carmencita            |0      |1894     |\\N     |1             |Documentary,Short       |\n",
            "|tt0000002|short    |Le clown et ses chiens|Le clown et ses chiens|0      |1892     |\\N     |5             |Animation,Short         |\n",
            "|tt0000003|short    |Pauvre Pierrot        |Pauvre Pierrot        |0      |1892     |\\N     |4             |Animation,Comedy,Romance|\n",
            "|tt0000004|short    |Un bon bock           |Un bon bock           |0      |1892     |\\N     |\\N            |Animation,Short         |\n",
            "|tt0000005|short    |Blacksmith Scene      |Blacksmith Scene      |0      |1893     |\\N     |1             |Comedy,Short            |\n",
            "+---------+---------+----------------------+----------------------+-------+---------+-------+--------------+------------------------+\n",
            "only showing top 5 rows\n",
            "\n"
          ]
        }
      ]
    },
    {
      "cell_type": "code",
      "metadata": {
        "colab": {
          "base_uri": "https://localhost:8080/"
        },
        "id": "QApkAhoTQBfy",
        "outputId": "e56a4d64-b018-483d-8eb1-59173dd0ca87"
      },
      "source": [
        "basics.select('titleType').distinct().show()"
      ],
      "execution_count": null,
      "outputs": [
        {
          "output_type": "stream",
          "name": "stdout",
          "text": [
            "+------------+\n",
            "|   titleType|\n",
            "+------------+\n",
            "|    tvSeries|\n",
            "|tvMiniSeries|\n",
            "|     tvMovie|\n",
            "|   tvEpisode|\n",
            "|       movie|\n",
            "|   tvSpecial|\n",
            "|       video|\n",
            "|   videoGame|\n",
            "|     tvShort|\n",
            "|       short|\n",
            "+------------+\n",
            "\n"
          ]
        }
      ]
    },
    {
      "cell_type": "code",
      "metadata": {
        "colab": {
          "base_uri": "https://localhost:8080/"
        },
        "id": "JV0ucWGfRZIB",
        "outputId": "f5355141-e51b-4d22-e801-ea87f7a9369e"
      },
      "source": [
        "basics_movies=basics.filter(basics.titleType=='movie')\n",
        "basics_movies.show(n=10,truncate=False)"
      ],
      "execution_count": 16,
      "outputs": [
        {
          "output_type": "stream",
          "name": "stdout",
          "text": [
            "+---------+---------+-------------------------------+-------------------------------+-------+---------+-------+--------------+----------------------+\n",
            "|tconst   |titleType|primaryTitle                   |originalTitle                  |isAdult|startYear|endYear|runtimeMinutes|genres                |\n",
            "+---------+---------+-------------------------------+-------------------------------+-------+---------+-------+--------------+----------------------+\n",
            "|tt0000009|movie    |Miss Jerry                     |Miss Jerry                     |0      |1894     |\\N     |45            |Romance               |\n",
            "|tt0000147|movie    |The Corbett-Fitzsimmons Fight  |The Corbett-Fitzsimmons Fight  |0      |1897     |\\N     |20            |Documentary,News,Sport|\n",
            "|tt0000335|movie    |Soldiers of the Cross          |Soldiers of the Cross          |0      |1900     |\\N     |\\N            |Biography,Drama       |\n",
            "|tt0000502|movie    |Bohemios                       |Bohemios                       |0      |1905     |\\N     |100           |\\N                    |\n",
            "|tt0000574|movie    |The Story of the Kelly Gang    |The Story of the Kelly Gang    |0      |1906     |\\N     |70            |Biography,Crime,Drama |\n",
            "|tt0000615|movie    |Robbery Under Arms             |Robbery Under Arms             |0      |1907     |\\N     |\\N            |Drama                 |\n",
            "|tt0000630|movie    |Hamlet                         |Amleto                         |0      |1908     |\\N     |\\N            |Drama                 |\n",
            "|tt0000675|movie    |Don Quijote                    |Don Quijote                    |0      |1908     |\\N     |\\N            |Drama                 |\n",
            "|tt0000676|movie    |Don Álvaro o la fuerza del sino|Don Álvaro o la fuerza del sino|0      |1908     |\\N     |\\N            |Drama                 |\n",
            "|tt0000679|movie    |The Fairylogue and Radio-Plays |The Fairylogue and Radio-Plays |0      |1908     |\\N     |120           |Adventure,Fantasy     |\n",
            "+---------+---------+-------------------------------+-------------------------------+-------+---------+-------+--------------+----------------------+\n",
            "only showing top 10 rows\n",
            "\n"
          ]
        }
      ]
    },
    {
      "cell_type": "code",
      "metadata": {
        "colab": {
          "base_uri": "https://localhost:8080/"
        },
        "id": "Z63TKzLGPsOr",
        "outputId": "616a098f-3ea2-4f4c-c0e4-85872db63943"
      },
      "source": [
        "principals.show(n=5,truncate=False)"
      ],
      "execution_count": 17,
      "outputs": [
        {
          "output_type": "stream",
          "name": "stdout",
          "text": [
            "+---------+--------+---------+---------------+-----------------------+-----------+\n",
            "|tconst   |ordering|nconst   |category       |job                    |characters |\n",
            "+---------+--------+---------+---------------+-----------------------+-----------+\n",
            "|tt0000001|1       |nm1588970|self           |\\N                     |[\"Herself\"]|\n",
            "|tt0000001|2       |nm0005690|director       |\\N                     |\\N         |\n",
            "|tt0000001|3       |nm0374658|cinematographer|director of photography|\\N         |\n",
            "|tt0000002|1       |nm0721526|director       |\\N                     |\\N         |\n",
            "|tt0000002|2       |nm1335271|composer       |\\N                     |\\N         |\n",
            "+---------+--------+---------+---------------+-----------------------+-----------+\n",
            "only showing top 5 rows\n",
            "\n"
          ]
        }
      ]
    },
    {
      "cell_type": "code",
      "metadata": {
        "id": "aVRHug2vWLjX"
      },
      "source": [
        "# all the people in the names table:"
      ],
      "execution_count": null,
      "outputs": []
    },
    {
      "cell_type": "code",
      "metadata": {
        "id": "4gGCLAJ1sVQQ"
      },
      "source": [
        "people= (\n",
        "    names\n",
        "    .withColumn(\"titles_array\", f.split(\"primaryProfession\", \"\\,\"))\n",
        "    .withColumn(\"primaryProfession\", f.explode(\"titles_array\"))\n",
        "    .select(\"nconst\", \"primaryName\",\"primaryProfession\")\n",
        ")"
      ],
      "execution_count": 18,
      "outputs": []
    },
    {
      "cell_type": "code",
      "metadata": {
        "colab": {
          "base_uri": "https://localhost:8080/"
        },
        "id": "qiuzuEUisrtJ",
        "outputId": "58796b42-90c6-4e7b-e6d7-f89bd0ce973a"
      },
      "source": [
        "people.createOrReplaceTempView('people')\n",
        "people.show()"
      ],
      "execution_count": null,
      "outputs": [
        {
          "output_type": "stream",
          "name": "stdout",
          "text": [
            "+---------+---------------+-----------------+\n",
            "|   nconst|    primaryName|primaryProfession|\n",
            "+---------+---------------+-----------------+\n",
            "|nm0000001|   Fred Astaire|       soundtrack|\n",
            "|nm0000001|   Fred Astaire|            actor|\n",
            "|nm0000001|   Fred Astaire|    miscellaneous|\n",
            "|nm0000002|  Lauren Bacall|          actress|\n",
            "|nm0000002|  Lauren Bacall|       soundtrack|\n",
            "|nm0000003|Brigitte Bardot|          actress|\n",
            "|nm0000003|Brigitte Bardot|       soundtrack|\n",
            "|nm0000003|Brigitte Bardot|         producer|\n",
            "|nm0000004|   John Belushi|            actor|\n",
            "|nm0000004|   John Belushi|           writer|\n",
            "|nm0000004|   John Belushi|       soundtrack|\n",
            "|nm0000005| Ingmar Bergman|           writer|\n",
            "|nm0000005| Ingmar Bergman|         director|\n",
            "|nm0000005| Ingmar Bergman|            actor|\n",
            "|nm0000006| Ingrid Bergman|          actress|\n",
            "|nm0000006| Ingrid Bergman|       soundtrack|\n",
            "|nm0000006| Ingrid Bergman|         producer|\n",
            "|nm0000007|Humphrey Bogart|            actor|\n",
            "|nm0000007|Humphrey Bogart|       soundtrack|\n",
            "|nm0000007|Humphrey Bogart|         producer|\n",
            "+---------+---------------+-----------------+\n",
            "only showing top 20 rows\n",
            "\n"
          ]
        }
      ]
    },
    {
      "cell_type": "code",
      "metadata": {
        "id": "582mnLIUWSSr"
      },
      "source": [
        "# number of people belonging to each category in the \"people\" table"
      ],
      "execution_count": null,
      "outputs": []
    },
    {
      "cell_type": "code",
      "metadata": {
        "colab": {
          "base_uri": "https://localhost:8080/"
        },
        "id": "ewppqVSdh-_Z",
        "outputId": "d5c75442-0a70-4f94-d6c2-7ced324b77b4"
      },
      "source": [
        "query = \"\"\"SELECT  primaryProfession AS profession, COUNT(*) AS people\n",
        "           FROM people\n",
        "           GROUP BY primaryProfession\n",
        "           ORDER BY people DESC \n",
        "           \"\"\"\n",
        "people = spark.sql(query)\n",
        "people.show()"
      ],
      "execution_count": null,
      "outputs": [
        {
          "output_type": "stream",
          "name": "stdout",
          "text": [
            "+--------------------+-------+\n",
            "|          profession| people|\n",
            "+--------------------+-------+\n",
            "|               actor|2266304|\n",
            "|             actress|1358806|\n",
            "|       miscellaneous|1011711|\n",
            "|            producer| 848060|\n",
            "|              writer| 643224|\n",
            "|   camera_department| 587557|\n",
            "|            director| 521860|\n",
            "|      art_department| 341861|\n",
            "|    sound_department| 296520|\n",
            "|     cinematographer| 272597|\n",
            "|              editor| 255923|\n",
            "|            composer| 233686|\n",
            "|  assistant_director| 192597|\n",
            "|    music_department| 181174|\n",
            "|      visual_effects| 168755|\n",
            "|  make_up_department| 168262|\n",
            "|  production_manager| 158502|\n",
            "|animation_department| 150381|\n",
            "|editorial_department| 139044|\n",
            "|          soundtrack| 132781|\n",
            "+--------------------+-------+\n",
            "only showing top 20 rows\n",
            "\n"
          ]
        }
      ]
    },
    {
      "cell_type": "code",
      "metadata": {
        "colab": {
          "base_uri": "https://localhost:8080/",
          "height": 1000
        },
        "id": "J0J8DQLTnxcA",
        "outputId": "3face32c-1949-45f0-eb14-1f146a23bc55"
      },
      "source": [
        "people=people.toPandas()\n",
        "people = people.set_index(\"profession\")\n",
        "people"
      ],
      "execution_count": null,
      "outputs": [
        {
          "output_type": "execute_result",
          "data": {
            "text/html": [
              "<div>\n",
              "<style scoped>\n",
              "    .dataframe tbody tr th:only-of-type {\n",
              "        vertical-align: middle;\n",
              "    }\n",
              "\n",
              "    .dataframe tbody tr th {\n",
              "        vertical-align: top;\n",
              "    }\n",
              "\n",
              "    .dataframe thead th {\n",
              "        text-align: right;\n",
              "    }\n",
              "</style>\n",
              "<table border=\"1\" class=\"dataframe\">\n",
              "  <thead>\n",
              "    <tr style=\"text-align: right;\">\n",
              "      <th></th>\n",
              "      <th>people</th>\n",
              "    </tr>\n",
              "    <tr>\n",
              "      <th>profession</th>\n",
              "      <th></th>\n",
              "    </tr>\n",
              "  </thead>\n",
              "  <tbody>\n",
              "    <tr>\n",
              "      <th>actor</th>\n",
              "      <td>2266304</td>\n",
              "    </tr>\n",
              "    <tr>\n",
              "      <th>actress</th>\n",
              "      <td>1358806</td>\n",
              "    </tr>\n",
              "    <tr>\n",
              "      <th>miscellaneous</th>\n",
              "      <td>1011711</td>\n",
              "    </tr>\n",
              "    <tr>\n",
              "      <th>producer</th>\n",
              "      <td>848060</td>\n",
              "    </tr>\n",
              "    <tr>\n",
              "      <th>writer</th>\n",
              "      <td>643224</td>\n",
              "    </tr>\n",
              "    <tr>\n",
              "      <th>camera_department</th>\n",
              "      <td>587557</td>\n",
              "    </tr>\n",
              "    <tr>\n",
              "      <th>director</th>\n",
              "      <td>521860</td>\n",
              "    </tr>\n",
              "    <tr>\n",
              "      <th>art_department</th>\n",
              "      <td>341861</td>\n",
              "    </tr>\n",
              "    <tr>\n",
              "      <th>sound_department</th>\n",
              "      <td>296520</td>\n",
              "    </tr>\n",
              "    <tr>\n",
              "      <th>cinematographer</th>\n",
              "      <td>272597</td>\n",
              "    </tr>\n",
              "    <tr>\n",
              "      <th>editor</th>\n",
              "      <td>255923</td>\n",
              "    </tr>\n",
              "    <tr>\n",
              "      <th>composer</th>\n",
              "      <td>233686</td>\n",
              "    </tr>\n",
              "    <tr>\n",
              "      <th>assistant_director</th>\n",
              "      <td>192597</td>\n",
              "    </tr>\n",
              "    <tr>\n",
              "      <th>music_department</th>\n",
              "      <td>181174</td>\n",
              "    </tr>\n",
              "    <tr>\n",
              "      <th>visual_effects</th>\n",
              "      <td>168755</td>\n",
              "    </tr>\n",
              "    <tr>\n",
              "      <th>make_up_department</th>\n",
              "      <td>168262</td>\n",
              "    </tr>\n",
              "    <tr>\n",
              "      <th>production_manager</th>\n",
              "      <td>158502</td>\n",
              "    </tr>\n",
              "    <tr>\n",
              "      <th>animation_department</th>\n",
              "      <td>150381</td>\n",
              "    </tr>\n",
              "    <tr>\n",
              "      <th>editorial_department</th>\n",
              "      <td>139044</td>\n",
              "    </tr>\n",
              "    <tr>\n",
              "      <th>soundtrack</th>\n",
              "      <td>132781</td>\n",
              "    </tr>\n",
              "    <tr>\n",
              "      <th>costume_department</th>\n",
              "      <td>113342</td>\n",
              "    </tr>\n",
              "    <tr>\n",
              "      <th>transportation_department</th>\n",
              "      <td>72485</td>\n",
              "    </tr>\n",
              "    <tr>\n",
              "      <th>art_director</th>\n",
              "      <td>70676</td>\n",
              "    </tr>\n",
              "    <tr>\n",
              "      <th>stunts</th>\n",
              "      <td>67649</td>\n",
              "    </tr>\n",
              "    <tr>\n",
              "      <th>production_designer</th>\n",
              "      <td>62788</td>\n",
              "    </tr>\n",
              "    <tr>\n",
              "      <th>costume_designer</th>\n",
              "      <td>58881</td>\n",
              "    </tr>\n",
              "    <tr>\n",
              "      <th>location_management</th>\n",
              "      <td>58554</td>\n",
              "    </tr>\n",
              "    <tr>\n",
              "      <th>script_department</th>\n",
              "      <td>58040</td>\n",
              "    </tr>\n",
              "    <tr>\n",
              "      <th>special_effects</th>\n",
              "      <td>53907</td>\n",
              "    </tr>\n",
              "    <tr>\n",
              "      <th>set_decorator</th>\n",
              "      <td>42404</td>\n",
              "    </tr>\n",
              "    <tr>\n",
              "      <th>casting_department</th>\n",
              "      <td>41921</td>\n",
              "    </tr>\n",
              "    <tr>\n",
              "      <th>executive</th>\n",
              "      <td>24396</td>\n",
              "    </tr>\n",
              "    <tr>\n",
              "      <th>casting_director</th>\n",
              "      <td>24248</td>\n",
              "    </tr>\n",
              "    <tr>\n",
              "      <th>talent_agent</th>\n",
              "      <td>11324</td>\n",
              "    </tr>\n",
              "    <tr>\n",
              "      <th>manager</th>\n",
              "      <td>10613</td>\n",
              "    </tr>\n",
              "    <tr>\n",
              "      <th>publicist</th>\n",
              "      <td>3264</td>\n",
              "    </tr>\n",
              "    <tr>\n",
              "      <th>legal</th>\n",
              "      <td>3114</td>\n",
              "    </tr>\n",
              "    <tr>\n",
              "      <th>assistant</th>\n",
              "      <td>2963</td>\n",
              "    </tr>\n",
              "    <tr>\n",
              "      <th>production_department</th>\n",
              "      <td>6</td>\n",
              "    </tr>\n",
              "    <tr>\n",
              "      <th>electrical_department</th>\n",
              "      <td>5</td>\n",
              "    </tr>\n",
              "  </tbody>\n",
              "</table>\n",
              "</div>"
            ],
            "text/plain": [
              "                            people\n",
              "profession                        \n",
              "actor                      2266304\n",
              "actress                    1358806\n",
              "miscellaneous              1011711\n",
              "producer                    848060\n",
              "writer                      643224\n",
              "camera_department           587557\n",
              "director                    521860\n",
              "art_department              341861\n",
              "sound_department            296520\n",
              "cinematographer             272597\n",
              "editor                      255923\n",
              "composer                    233686\n",
              "assistant_director          192597\n",
              "music_department            181174\n",
              "visual_effects              168755\n",
              "make_up_department          168262\n",
              "production_manager          158502\n",
              "animation_department        150381\n",
              "editorial_department        139044\n",
              "soundtrack                  132781\n",
              "costume_department          113342\n",
              "transportation_department    72485\n",
              "art_director                 70676\n",
              "stunts                       67649\n",
              "production_designer          62788\n",
              "costume_designer             58881\n",
              "location_management          58554\n",
              "script_department            58040\n",
              "special_effects              53907\n",
              "set_decorator                42404\n",
              "casting_department           41921\n",
              "executive                    24396\n",
              "casting_director             24248\n",
              "talent_agent                 11324\n",
              "manager                      10613\n",
              "publicist                     3264\n",
              "legal                         3114\n",
              "assistant                     2963\n",
              "production_department            6\n",
              "electrical_department            5"
            ]
          },
          "metadata": {},
          "execution_count": 195
        }
      ]
    },
    {
      "cell_type": "code",
      "metadata": {
        "colab": {
          "base_uri": "https://localhost:8080/",
          "height": 754
        },
        "id": "FtG_FWfan00o",
        "outputId": "b2003719-1701-4b87-cccb-8958c55b2d72"
      },
      "source": [
        "pie = people.plot.pie(y = \"people\", figsize = (13,13), autopct = \"%1.1f%%\")\n",
        "pie.legend(loc = \"upper left\");\n",
        "pie.set(title = \"people by professşon\", ylabel = \"Percentage of people\");"
      ],
      "execution_count": null,
      "outputs": [
        {
          "output_type": "display_data",
          "data": {
            "image/png": "[encoded data removed]",
            "text/plain": [
              "<Figure size 936x936 with 1 Axes>"
            ]
          },
          "metadata": {}
        }
      ]
    },
    {
      "cell_type": "code",
      "metadata": {
        "id": "diEiXLeHW_9r"
      },
      "source": [
        "# creating a table which consists both movies and actors/actresses in it:"
      ],
      "execution_count": null,
      "outputs": []
    },
    {
      "cell_type": "code",
      "metadata": {
        "id": "n11qlKlVQBVK"
      },
      "source": [
        "movies=basics_movies.join(principals,basics_movies.tconst==principals.tconst).select(principals.tconst,basics_movies.primaryTitle,principals.nconst)"
      ],
      "execution_count": 19,
      "outputs": []
    },
    {
      "cell_type": "code",
      "metadata": {
        "colab": {
          "base_uri": "https://localhost:8080/"
        },
        "id": "0DlzYDcJQBJD",
        "outputId": "9bba33b1-8277-4f0c-ecbd-6a2859beecb6"
      },
      "source": [
        "movies.show(n=10,truncate=False)"
      ],
      "execution_count": null,
      "outputs": [
        {
          "output_type": "stream",
          "name": "stdout",
          "text": [
            "+---------+-------------------------+---------+--------------+\n",
            "|tconst   |primaryTitle             |nconst   |primaryName   |\n",
            "+---------+-------------------------+---------+--------------+\n",
            "|tt0083109|The Cabbage Soup         |nm0000086|Louis de Funès|\n",
            "|tt0062120|The Little Bather        |nm0000086|Louis de Funès|\n",
            "|tt0057422|Squeak-squeak            |nm0000086|Louis de Funès|\n",
            "|tt0058089|Fantomas                 |nm0000086|Louis de Funès|\n",
            "|tt1253586|Louis de Funès intime    |nm0000086|Louis de Funès|\n",
            "|tt0067274|Jo                       |nm0000086|Louis de Funès|\n",
            "|tt0079200|The Troops & Aliens      |nm0000086|Louis de Funès|\n",
            "|tt0048994|Babies Galore            |nm0000086|Louis de Funès|\n",
            "|tt8768374|Le gendarme et l'empereur|nm0000086|Louis de Funès|\n",
            "|tt0066423|Perched on a Tree        |nm0000086|Louis de Funès|\n",
            "+---------+-------------------------+---------+--------------+\n",
            "only showing top 10 rows\n",
            "\n"
          ]
        }
      ]
    },
    {
      "cell_type": "code",
      "metadata": {
        "id": "O0xga48-XgkT"
      },
      "source": [
        "# collecting all the necessary information in one table: movie id, movie title, actor/actress id, actor/actress name"
      ],
      "execution_count": null,
      "outputs": []
    },
    {
      "cell_type": "code",
      "metadata": {
        "id": "vKVyZVl1TPEa"
      },
      "source": [
        "movies=movies.join(names,movies.nconst==names.nconst,\"left\").select(movies.tconst,movies.primaryTitle,movies.nconst,names.primaryName)"
      ],
      "execution_count": 20,
      "outputs": []
    },
    {
      "cell_type": "code",
      "metadata": {
        "colab": {
          "base_uri": "https://localhost:8080/"
        },
        "id": "9Y7pF8TXTJgO",
        "outputId": "230f3eea-d47e-46c2-ca28-6c2408de3471"
      },
      "source": [
        "movies.cache()"
      ],
      "execution_count": 21,
      "outputs": [
        {
          "output_type": "execute_result",
          "data": {
            "text/plain": [
              "DataFrame[tconst: string, primaryTitle: string, nconst: string, primaryName: string]"
            ]
          },
          "metadata": {},
          "execution_count": 21
        }
      ]
    },
    {
      "cell_type": "code",
      "metadata": {
        "id": "_ijfOs62laV7"
      },
      "source": [
        "movies.createOrReplaceTempView('movies')"
      ],
      "execution_count": 22,
      "outputs": []
    },
    {
      "cell_type": "code",
      "metadata": {
        "colab": {
          "base_uri": "https://localhost:8080/"
        },
        "id": "-2ovrD7DUrjL",
        "outputId": "76d569ce-d5c1-489a-ec5d-522dea9fcbee"
      },
      "source": [
        "movies.show(n=10,truncate=False)"
      ],
      "execution_count": null,
      "outputs": [
        {
          "output_type": "stream",
          "name": "stdout",
          "text": [
            "+---------+-------------------------+---------+--------------+\n",
            "|tconst   |primaryTitle             |nconst   |primaryName   |\n",
            "+---------+-------------------------+---------+--------------+\n",
            "|tt0083109|The Cabbage Soup         |nm0000086|Louis de Funès|\n",
            "|tt0062120|The Little Bather        |nm0000086|Louis de Funès|\n",
            "|tt0057422|Squeak-squeak            |nm0000086|Louis de Funès|\n",
            "|tt0058089|Fantomas                 |nm0000086|Louis de Funès|\n",
            "|tt1253586|Louis de Funès intime    |nm0000086|Louis de Funès|\n",
            "|tt0067274|Jo                       |nm0000086|Louis de Funès|\n",
            "|tt0079200|The Troops & Aliens      |nm0000086|Louis de Funès|\n",
            "|tt0048994|Babies Galore            |nm0000086|Louis de Funès|\n",
            "|tt8768374|Le gendarme et l'empereur|nm0000086|Louis de Funès|\n",
            "|tt0066423|Perched on a Tree        |nm0000086|Louis de Funès|\n",
            "+---------+-------------------------+---------+--------------+\n",
            "only showing top 10 rows\n",
            "\n"
          ]
        }
      ]
    },
    {
      "cell_type": "code",
      "metadata": {
        "id": "Qm91OKBFX2fJ"
      },
      "source": [
        "# visualising top 10 actors/actresses according to their movie appearances"
      ],
      "execution_count": null,
      "outputs": []
    },
    {
      "cell_type": "code",
      "metadata": {
        "id": "d1vamIsEmDsR"
      },
      "source": [
        "import seaborn as sns\n",
        "from wordcloud import WordCloud"
      ],
      "execution_count": null,
      "outputs": []
    },
    {
      "cell_type": "code",
      "metadata": {
        "colab": {
          "base_uri": "https://localhost:8080/",
          "height": 511
        },
        "id": "n7aMRw7qjZU7",
        "outputId": "e80e8504-dcf3-4c5d-99fc-027a02faf49b"
      },
      "source": [
        "query = \"\"\"SELECT primaryName, COUNT(*) AS actor_count\n",
        "           FROM movies\n",
        "           GROUP BY primaryName\n",
        "           ORDER BY actor_count desc\n",
        "           LIMIT 10\"\"\"\n",
        "appearance = spark.sql(query)\n",
        "sns.set(rc={'figure.figsize':(10,6)})\n",
        "ax = sns.barplot(x = \"primaryName\", y = \"actor_count\", data = appearance.toPandas())\n",
        "ax.set(title = \"Top 10 most appeared actors\", xlabel = \"Actor\", ylabel = \"Total Appearance\")\n",
        "ax.set_xticklabels(ax.get_xticklabels(), rotation=70);"
      ],
      "execution_count": null,
      "outputs": [
        {
          "output_type": "display_data",
          "data": {
            "image/png": "[encoded data removed]",
            "text/plain": [
              "<Figure size 720x432 with 1 Axes>"
            ]
          },
          "metadata": {}
        }
      ]
    },
    {
      "cell_type": "code",
      "metadata": {
        "id": "zg94MTcBYCul"
      },
      "source": [
        "# checking if the \"movies\" table contains any null values"
      ],
      "execution_count": null,
      "outputs": []
    },
    {
      "cell_type": "code",
      "metadata": {
        "colab": {
          "base_uri": "https://localhost:8080/"
        },
        "id": "GF33dp-XY0Lj",
        "outputId": "5550930e-3651-46ae-d894-a19d4ea41ddf"
      },
      "source": [
        "Dict_ = {col:movies.filter(movies[col].isNull()).count() for col in movies.columns}\n",
        "Dict_"
      ],
      "execution_count": null,
      "outputs": [
        {
          "output_type": "execute_result",
          "data": {
            "text/plain": [
              "{'nconst': 0, 'primaryName': 1484, 'primaryTitle': 0, 'tconst': 0}"
            ]
          },
          "metadata": {
            "tags": []
          },
          "execution_count": 52
        }
      ]
    },
    {
      "cell_type": "code",
      "metadata": {
        "colab": {
          "base_uri": "https://localhost:8080/"
        },
        "id": "dK0MQCFCh2FQ",
        "outputId": "8d39186d-d4c1-4c6b-b3d6-7612d601bf37"
      },
      "source": [
        "Dict_ = {col:movies.filter(movies[col]=='\\\\N').count() for col in movies.columns}\n",
        "Dict_"
      ],
      "execution_count": null,
      "outputs": [
        {
          "output_type": "execute_result",
          "data": {
            "text/plain": [
              "{'nconst': 0, 'primaryName': 0, 'primaryTitle': 0, 'tconst': 0}"
            ]
          },
          "metadata": {
            "tags": []
          },
          "execution_count": 53
        }
      ]
    },
    {
      "cell_type": "code",
      "metadata": {
        "colab": {
          "base_uri": "https://localhost:8080/"
        },
        "id": "4yXt_B0reBGu",
        "outputId": "09956d80-3e26-47fe-830d-45f3530aac66"
      },
      "source": [
        "Dict_ = {col:movies.filter(movies[col]==' ').count() for col in movies.columns}\n",
        "Dict_"
      ],
      "execution_count": null,
      "outputs": [
        {
          "output_type": "execute_result",
          "data": {
            "text/plain": [
              "{'nconst': 0, 'primaryName': 0, 'primaryTitle': 0, 'tconst': 0}"
            ]
          },
          "metadata": {
            "tags": []
          },
          "execution_count": 54
        }
      ]
    },
    {
      "cell_type": "code",
      "metadata": {
        "id": "OkNbhA0RvkOE"
      },
      "source": [
        "# only null values are in 'primaryName' attribute. Since 'tconst' (actor id) will be enough for this analysis, \n",
        "# primaryName null values do not pose any threat and will be left untouched."
      ],
      "execution_count": null,
      "outputs": []
    },
    {
      "cell_type": "code",
      "metadata": {
        "colab": {
          "base_uri": "https://localhost:8080/"
        },
        "id": "1PgOS6xuwnRc",
        "outputId": "cbc954ae-6b59-4387-fcc3-67557f0a657a"
      },
      "source": [
        "print((movies.count(), len(movies.columns)))"
      ],
      "execution_count": null,
      "outputs": [
        {
          "output_type": "stream",
          "name": "stdout",
          "text": [
            "(3800079, 4)\n"
          ]
        }
      ]
    },
    {
      "cell_type": "code",
      "metadata": {
        "id": "TucfQNrhXKdR"
      },
      "source": [
        "## Creating baskets\n",
        "movie_baskets=movies.groupBy('tconst').agg(f.collect_set('nconst').alias('actors'))"
      ],
      "execution_count": 23,
      "outputs": []
    },
    {
      "cell_type": "code",
      "metadata": {
        "colab": {
          "base_uri": "https://localhost:8080/"
        },
        "id": "yEOdiwucje7w",
        "outputId": "68160423-0d4b-4fff-8075-9b7de45d9e80"
      },
      "source": [
        "movie_baskets.show()"
      ],
      "execution_count": null,
      "outputs": [
        {
          "output_type": "stream",
          "name": "stdout",
          "text": [
            "+---------+--------------------+\n",
            "|   tconst|              actors|\n",
            "+---------+--------------------+\n",
            "|tt0002591|[nm0029806, nm050...|\n",
            "|tt0003689|[nm0910564, nm052...|\n",
            "|tt0004272|[nm0092665, nm036...|\n",
            "|tt0004336|[nm0916379, nm026...|\n",
            "|tt0005209|[nm0148859, nm059...|\n",
            "|tt0005605|[nm0364218, nm007...|\n",
            "|tt0005617|         [nm0444797]|\n",
            "|tt0005793|[nm0606530, nm049...|\n",
            "|tt0005912|[nm0613966, nm000...|\n",
            "|tt0006204|[nm0071601, nm007...|\n",
            "|tt0006207|[nm0356267, nm023...|\n",
            "|tt0006441|[nm0546121, nm090...|\n",
            "|tt0006489|[nm0842521, nm044...|\n",
            "|tt0006587|[nm0617202, nm013...|\n",
            "|tt0006819|[nm0652650, nm043...|\n",
            "|tt0007011|[nm0785823, nm082...|\n",
            "|tt0007169|         [nm0856842]|\n",
            "|tt0007565|[nm0820105, nm079...|\n",
            "|tt0007694|[nm0330373, nm026...|\n",
            "|tt0008160|[nm0145776, nm054...|\n",
            "+---------+--------------------+\n",
            "only showing top 20 rows\n",
            "\n"
          ]
        }
      ]
    },
    {
      "cell_type": "code",
      "metadata": {
        "colab": {
          "base_uri": "https://localhost:8080/"
        },
        "id": "fVRGHSMKxf0R",
        "outputId": "a1811b2b-577a-4f45-a1d1-268473213811"
      },
      "source": [
        "movie_baskets.printSchema()"
      ],
      "execution_count": 24,
      "outputs": [
        {
          "output_type": "stream",
          "name": "stdout",
          "text": [
            "root\n",
            " |-- tconst: string (nullable = true)\n",
            " |-- actors: array (nullable = false)\n",
            " |    |-- element: string (containsNull = false)\n",
            "\n"
          ]
        }
      ]
    },
    {
      "cell_type": "code",
      "metadata": {
        "colab": {
          "base_uri": "https://localhost:8080/"
        },
        "id": "NyEX_LZD0MK8",
        "outputId": "91d591e0-d9f7-4fa5-fdbe-2184a2140089"
      },
      "source": [
        "movie_baskets.cache()"
      ],
      "execution_count": 25,
      "outputs": [
        {
          "output_type": "execute_result",
          "data": {
            "text/plain": [
              "DataFrame[tconst: string, actors: array<string>]"
            ]
          },
          "metadata": {},
          "execution_count": 25
        }
      ]
    },
    {
      "cell_type": "code",
      "metadata": {
        "colab": {
          "base_uri": "https://localhost:8080/"
        },
        "id": "DUufRHzBjiGX",
        "outputId": "319a19b3-b67c-4704-b4f8-b6a45e7e5bd1"
      },
      "source": [
        "# number of baskets\n",
        "print(movie_baskets.count(), len(movie_baskets.columns))"
      ],
      "execution_count": null,
      "outputs": [
        {
          "output_type": "stream",
          "name": "stdout",
          "text": [
            "522758 2\n"
          ]
        }
      ]
    },
    {
      "cell_type": "code",
      "metadata": {
        "id": "C7jb505gYxpK"
      },
      "source": [
        "# displaying basket sizes"
      ],
      "execution_count": null,
      "outputs": []
    },
    {
      "cell_type": "code",
      "metadata": {
        "id": "QCzmQ6t11Q8N",
        "colab": {
          "base_uri": "https://localhost:8080/"
        },
        "outputId": "9e80d973-644d-48d3-9d4a-c9f08c8c4c70"
      },
      "source": [
        "basket_sizes=movie_baskets.withColumn(\"size\", f.size(\"actors\")).select('*')\n",
        "basket_sizes.sort('size',ascending=False).show()"
      ],
      "execution_count": null,
      "outputs": [
        {
          "output_type": "stream",
          "name": "stdout",
          "text": [
            "+---------+--------------------+----+\n",
            "|   tconst|              actors|size|\n",
            "+---------+--------------------+----+\n",
            "|tt0008261|[nm0351960, nm052...|  10|\n",
            "|tt0014099|[nm0524306, nm059...|  10|\n",
            "|tt0008321|[nm0795059, nm084...|  10|\n",
            "|tt0008890|[nm0161366, nm059...|  10|\n",
            "|tt0009137|[nm0567756, nm010...|  10|\n",
            "|tt0004302|[nm0279530, nm059...|  10|\n",
            "|tt0009418|[nm0668927, nm072...|  10|\n",
            "|tt0005828|[nm0612348, nm008...|  10|\n",
            "|tt0009423|[nm0319599, nm005...|  10|\n",
            "|tt0005957|[nm0738082, nm056...|  10|\n",
            "|tt0006600|[nm0753583, nm028...|  10|\n",
            "|tt0009784|[nm0322170, nm094...|  10|\n",
            "|tt0007001|[nm0286788, nm027...|  10|\n",
            "|tt0010049|[nm0337801, nm020...|  10|\n",
            "|tt0007753|[nm0562866, nm053...|  10|\n",
            "|tt0010056|[nm0082537, nm000...|  10|\n",
            "|tt0003752|[nm0207764, nm086...|  10|\n",
            "|tt0010915|[nm0258197, nm040...|  10|\n",
            "|tt0005250|[nm0692105, nm012...|  10|\n",
            "|tt0011742|[nm1084225, nm047...|  10|\n",
            "+---------+--------------------+----+\n",
            "only showing top 20 rows\n",
            "\n"
          ]
        }
      ]
    },
    {
      "cell_type": "code",
      "metadata": {
        "id": "sc0a1X1lY4dn"
      },
      "source": [
        "# grouping baskets according to their sizes"
      ],
      "execution_count": null,
      "outputs": []
    },
    {
      "cell_type": "code",
      "metadata": {
        "id": "qoNBKP3U2SHo",
        "colab": {
          "base_uri": "https://localhost:8080/"
        },
        "outputId": "86bf1c79-2135-4a5c-f491-6ae309fe0f3f"
      },
      "source": [
        "basket_sizes.groupBy('size').count().sort('count',ascending=False).show()"
      ],
      "execution_count": null,
      "outputs": [
        {
          "output_type": "stream",
          "name": "stdout",
          "text": [
            "+----+------+\n",
            "|size| count|\n",
            "+----+------+\n",
            "|  10|234027|\n",
            "|   9| 46237|\n",
            "|   1| 41273|\n",
            "|   8| 33016|\n",
            "|   2| 31906|\n",
            "|   3| 29332|\n",
            "|   4| 28461|\n",
            "|   7| 27159|\n",
            "|   5| 25688|\n",
            "|   6| 25659|\n",
            "+----+------+\n",
            "\n"
          ]
        }
      ]
    },
    {
      "cell_type": "code",
      "metadata": {
        "id": "e9MLGAiXnM6L"
      },
      "source": [
        "# in order to decide on the support number, we should first check the average number of movies an actor plays\n",
        "\n",
        "actor_movie_numbers=movies.groupBy('nconst').agg(f.collect_set('tconst').alias('movie_titles')).withColumn(\"size\", f.size(\"movie_titles\")).select('*').sort('size',ascending=False)"
      ],
      "execution_count": 26,
      "outputs": []
    },
    {
      "cell_type": "code",
      "metadata": {
        "colab": {
          "base_uri": "https://localhost:8080/"
        },
        "id": "TFrpp7A1o7pn",
        "outputId": "700f67c5-583e-49bb-8b61-4782a194fdc0"
      },
      "source": [
        "actor_movie_numbers.groupby('size').count().sort('count',ascending=False).show()"
      ],
      "execution_count": null,
      "outputs": [
        {
          "output_type": "stream",
          "name": "stdout",
          "text": [
            "+----+------+\n",
            "|size| count|\n",
            "+----+------+\n",
            "|   1|829386|\n",
            "|   2|169589|\n",
            "|   3| 75754|\n",
            "|   4| 43802|\n",
            "|   5| 28363|\n",
            "|   6| 20310|\n",
            "|   7| 14727|\n",
            "|   8| 11302|\n",
            "|   9|  9062|\n",
            "|  10|  7343|\n",
            "|  11|  6087|\n",
            "|  12|  5073|\n",
            "|  13|  4247|\n",
            "|  14|  3756|\n",
            "|  15|  3169|\n",
            "|  16|  2829|\n",
            "|  17|  2541|\n",
            "|  18|  2229|\n",
            "|  19|  1999|\n",
            "|  20|  1829|\n",
            "+----+------+\n",
            "only showing top 20 rows\n",
            "\n"
          ]
        }
      ]
    },
    {
      "cell_type": "code",
      "metadata": {
        "id": "xBp6LJKYrAZx"
      },
      "source": [
        "######################################"
      ],
      "execution_count": null,
      "outputs": []
    },
    {
      "cell_type": "markdown",
      "metadata": {
        "id": "PAyY94QD16XP"
      },
      "source": [
        "**A PRIORI**"
      ]
    },
    {
      "cell_type": "code",
      "metadata": {
        "id": "haNY_HJr13vG"
      },
      "source": [
        "transaction_df=movie_baskets.select('actors').rdd.flatMap(lambda x: x)\n",
        "lines = transaction_df.map(lambda line: ','.join(str(d) for d in line))\n",
        "lines.saveAsTextFile('itemsets.txt')\n",
        "transactions = sc.textFile('itemsets.txt').map(lambda x: [str(y) for y in x.strip().split(',')])"
      ],
      "execution_count": 27,
      "outputs": []
    },
    {
      "cell_type": "code",
      "metadata": {
        "colab": {
          "base_uri": "https://localhost:8080/"
        },
        "id": "D1TUrqJ6YcfT",
        "outputId": "a8661ca9-3a52-4084-c9c8-a09d407aad87"
      },
      "source": [
        "transactions.cache()"
      ],
      "execution_count": 28,
      "outputs": [
        {
          "output_type": "execute_result",
          "data": {
            "text/plain": [
              "PythonRDD[92] at RDD at PythonRDD.scala:53"
            ]
          },
          "metadata": {},
          "execution_count": 28
        }
      ]
    },
    {
      "cell_type": "code",
      "metadata": {
        "colab": {
          "base_uri": "https://localhost:8080/"
        },
        "id": "I23wIFvjZf5z",
        "outputId": "51377a50-2411-4764-e5ab-2664d63a6559"
      },
      "source": [
        "print(transactions.collect()[:3])"
      ],
      "execution_count": null,
      "outputs": [
        {
          "output_type": "stream",
          "name": "stdout",
          "text": [
            "[['nm0526275', 'nm0064949', 'nm0414887', 'nm0249426', 'nm0830249', 'nm0526234', 'nm0005748', 'nm0018814', 'nm0251622', 'nm0803705'], ['nm0485880', 'nm0205986', 'nm0163540', 'nm0608971', 'nm0130576', 'nm0502700', 'nm0676473', 'nm0724397', 'nm0050150', 'nm0299052'], ['nm0354282', 'nm0048512', 'nm0824332', 'nm0176699', 'nm0305087', 'nm0518711', 'nm0712870', 'nm0098376']]\n"
          ]
        }
      ]
    },
    {
      "cell_type": "code",
      "metadata": {
        "id": "-2k5FZ56whrP",
        "colab": {
          "base_uri": "https://localhost:8080/"
        },
        "outputId": "08b4e561-80cc-4e0a-d022-6134f0f046b6"
      },
      "source": [
        "#defining the minimum support value   \n",
        "count= transactions.count()        \n",
        "min_support= 0.0004*count     \n",
        "min_support"
      ],
      "execution_count": null,
      "outputs": [
        {
          "output_type": "execute_result",
          "data": {
            "text/plain": [
              "209.10320000000002"
            ]
          },
          "metadata": {},
          "execution_count": 32
        }
      ]
    },
    {
      "cell_type": "code",
      "metadata": {
        "id": "MHvkvEAljvHR"
      },
      "source": [
        "# function that creates all the candidate values"
      ],
      "execution_count": null,
      "outputs": []
    },
    {
      "cell_type": "code",
      "metadata": {
        "id": "AWdQkrdQi1FW"
      },
      "source": [
        "def get_candidates(frequents,n):\n",
        "  frequents=frequents.collect()\n",
        "  if (n==2):\n",
        "    singles = set()\n",
        "    for item in frequents:\n",
        "      singles.add(item)\n",
        "    \n",
        "  if (n>2):\n",
        "    singles=set() \n",
        "    for itemsets in frequents: \n",
        "      for item in itemsets: \n",
        "        singles.add(item) \n",
        "        \n",
        "  candidates=[set(itemsets) for itemsets in list(itertools.combinations(singles, n))] \n",
        "  return candidates"
      ],
      "execution_count": 29,
      "outputs": []
    },
    {
      "cell_type": "code",
      "metadata": {
        "id": "90yr0b2aj6Nm"
      },
      "source": [
        "# function that gives the candidates and the total number of their appearances"
      ],
      "execution_count": null,
      "outputs": []
    },
    {
      "cell_type": "code",
      "metadata": {
        "id": "0a7l7lx0mOr_"
      },
      "source": [
        "def count_candidates(x, candidates):\n",
        "    c_list = []\n",
        "    for itemsets in candidates:                     \n",
        "        if set(list(itemsets)).issubset(set(x)):\n",
        "            c_list.append([tuple(itemsets), 1])\n",
        "        else:\n",
        "            c_list.append([tuple(itemsets), 0])\n",
        "    return c_list"
      ],
      "execution_count": 30,
      "outputs": []
    },
    {
      "cell_type": "code",
      "metadata": {
        "id": "j3IQaZFikLod"
      },
      "source": [
        "# function that filters the candidates whose support values are above the minimum support, namely the frequent items"
      ],
      "execution_count": null,
      "outputs": []
    },
    {
      "cell_type": "code",
      "metadata": {
        "id": "RMQsp1Ghx5pU"
      },
      "source": [
        "def get_frequent_itemsets(candidates, itemsets, support):\n",
        "    frequent_item_set = itemsets.flatMap(lambda x: count_candidates(x, candidates)).reduceByKey(lambda a, b: a+b).map(lambda x: (x[0], x[1])).filter(lambda x: x[1]>=support)\n",
        "    return frequent_item_set"
      ],
      "execution_count": 31,
      "outputs": []
    },
    {
      "cell_type": "code",
      "metadata": {
        "id": "MCGQRxhGkeH5"
      },
      "source": [
        "# function that checks whether there is still higher order item sets to be generated"
      ],
      "execution_count": null,
      "outputs": []
    },
    {
      "cell_type": "code",
      "metadata": {
        "id": "AhQHIeXw-wBk"
      },
      "source": [
        "def not_empty(freq_sets):\n",
        "    return (freq_sets.count() > 0) and (freq_sets is not None)"
      ],
      "execution_count": 32,
      "outputs": []
    },
    {
      "cell_type": "code",
      "metadata": {
        "id": "WY7W-ggPksy5"
      },
      "source": [
        "# A Priori algorithm:"
      ],
      "execution_count": null,
      "outputs": []
    },
    {
      "cell_type": "code",
      "metadata": {
        "id": "x3JQH_qTT05S"
      },
      "source": [
        "def apriori(itemsets,support):\n",
        "      \n",
        "   act_freqRDD=(itemsets.flatMap(lambda x:x).map(lambda i: (i, 1)).reduceByKey(lambda a,b: a+b))\n",
        "   frequents_RDD= act_freqRDD.map(lambda x: (x[0], x[1])).filter(lambda x: x[1]>=support)\n",
        "   \n",
        "   supportRDD = frequents_RDD.map(lambda item: ([item[0]] , item[1])) \n",
        "    \n",
        "   frequents_RDD= frequents_RDD.map(lambda x:x[0])  \n",
        "   n=2\n",
        "  \n",
        "   while not_empty(frequents_RDD):\n",
        "     \n",
        "     candidate_sets = get_candidates(frequents_RDD, n)\n",
        "     frequent_itemsets = get_frequent_itemsets(candidate_sets, itemsets, support)\n",
        "     supportRDD  = supportRDD.union(frequent_itemsets)\n",
        "     frequents_RDD = frequent_itemsets.map(lambda x:x[0])\n",
        "     \n",
        "   \n",
        "     n += 1\n",
        "   \n",
        "   return supportRDD"
      ],
      "execution_count": 33,
      "outputs": []
    },
    {
      "cell_type": "code",
      "metadata": {
        "id": "sZIvtlF6lCcG"
      },
      "source": [
        "# Frequent Items and the duration of the A Priori algorithm"
      ],
      "execution_count": null,
      "outputs": []
    },
    {
      "cell_type": "code",
      "metadata": {
        "id": "QINBuaiYqUmh",
        "colab": {
          "base_uri": "https://localhost:8080/"
        },
        "outputId": "15362666-382c-4b44-d86a-c88187440403"
      },
      "source": [
        "from datetime import datetime ## min_support=0.0004\n",
        "start_time = datetime.now()\n",
        "print(apriori(transactions, min_support).collect())\n",
        "end_time = datetime.now()\n",
        "print('Duration: {}'.format(end_time - start_time))"
      ],
      "execution_count": null,
      "outputs": [
        {
          "output_type": "stream",
          "text": [
            "[(['nm0945427'], 218), (['nm1046041'], 237), (['nm0767266'], 285), (['nm0793881'], 224), (['nm0006064'], 383), (['nm0764762'], 247), (['nm0045119'], 251), (['nm0893449'], 240), (['nm1058607'], 283), (['nm0802846'], 212), (['nm1894124'], 273), (['nm0006137'], 981), (['nm0415549'], 302), (['nm0766496'], 227), (['nm1006879'], 240), (['nm0793813'], 411), (['nm0482320'], 346), (['nm0659173'], 214), (['nm0798827'], 237), (['nm0005983'], 279), (['nm0474820'], 230), (['nm0688093'], 262), (['nm0701403'], 394), (['nm0994324'], 320), (['nm0706691'], 316), (['nm0297772'], 223), (['nm0756966'], 988), (['nm0588316'], 275), (['nm0374974'], 286), (['nm0997109'], 354), (['nm0004417'], 290), (['nm0004467'], 212), (['nm0046850'], 348), (['nm1069523'], 224), (['nm0080173'], 230), (['nm0222432'], 274), (['nm0462051'], 381), (['nm0006369'], 280), (['nm0104418'], 223), (['nm0154164'], 236), (['nm0627864'], 213), (['nm0695177'], 221), (['nm1066548'], 229), (['nm0455836'], 210), (['nm0623427'], 439), (['nm0538632'], 244), (['nm0232490'], 515), (['nm0619107'], 399), (['nm0155449'], 216), (['nm1047085'], 283), (['nm0001000'], 313), (['nm0619309'], 313), (['nm0035067'], 300), (['nm0001553'], 306), (['nm0000465'], 389), (['nm0695199'], 257), (['nm0839439'], 213), (['nm0453459'], 512), (['nm0222219'], 298), (['nm0993695'], 213), (['nm0845290'], 212), (['nm0644554'], 440), (['nm0315553'], 246), (['nm1066229'], 229), (['nm0649320'], 331), (['nm0352032'], 237), (['nm0003375'], 231), (['nm3183374'], 262), (['nm0006982'], 586), (['nm0613417'], 239), (['nm0304262'], 323), (['nm0648803'], 565), (['nm1008497'], 235), (['nm1846347'], 250), (['nm1001108'], 219), (['nm0005996'], 320), (['nm0004660'], 214), (['nm0419707'], 214), (['nm0191097'], 280), (['nm0004429'], 278), (['nm0006136'], 266), (['nm0960106'], 333), (['nm0105899'], 210), (['nm0023173'], 265), (['nm0473742'], 465), (['nm0006054'], 267), (['nm0419653'], 307), (['nm0246703'], 391), (['nm1352627'], 263), (['nm0156963'], 404), (['nm0038256'], 249), (['nm0019382'], 228), (['nm0788411'], 306), (['nm0383255'], 214), (['nm0554925'], 229), (['nm0534867'], 298), (['nm0004463'], 257), (['nm0434318'], 253), (['nm0880783'], 234), (['nm0619779'], 265), (['nm0781261'], 217), (['nm0627060'], 319), (['nm0393250'], 230), (['nm0103977'], 798), (['nm0305182'], 541), (['nm0876561'], 254), (['nm0007123'], 383), (['nm0261738'], 294), (['nm0820286'], 210), (['nm0659250'], 304), (['nm0628860'], 228), (['nm0457554'], 296), (['nm0420092'], 235), (['nm0006165'], 262), (['nm0001238'], 220), (['nm0005757'], 226), (['nm0347953'], 260), (['nm0497712'], 269), (['nm0913835'], 224), (['nm0299575'], 211), (['nm0007106'], 310), (['nm1073082'], 213), (['nm0367928'], 236), (['nm0000616'], 251), (['nm0910881'], 288), (['nm7390393'], 355), (['nm0149822'], 331), (['nm0419685'], 212), (['nm0837797'], 251), (['nm0411778'], 267), (['nm0346259'], 237), (['nm1350644'], 319), (['nm0481568'], 439), (['nm2147526'], 211), (['nm0159450'], 242), (['nm0595934'], 228), (['nm0434120'], 224), (['nm0611446'], 219), (['nm0789956'], 256), (['nm0021728'], 239), (['nm0158101'], 250), (['nm0667985'], 216), (['nm1930572'], 433), (['nm0004437'], 247), (['nm0003501'], 241), (['nm0000636'], 497), (['nm0453520'], 244), (['nm0654710'], 218), (['nm0939147'], 264), (('nm0473742', 'nm0701403'), 394), (('nm0006982', 'nm0623427'), 237)]\n",
            "Duration: 3:20:07.998525\n"
          ],
          "name": "stdout"
        }
      ]
    },
    {
      "cell_type": "code",
      "metadata": {
        "colab": {
          "base_uri": "https://localhost:8080/"
        },
        "id": "u8fJK1C-jLCw",
        "outputId": "433d3c37-8d18-4f4f-b004-72e76188b8f8"
      },
      "source": [
        "from datetime import datetime #0.0005\n",
        "start_time = datetime.now()\n",
        "print(apriori(transactions, min_support).collect())\n",
        "end_time = datetime.now()\n",
        "print('Duration: {}'.format(end_time - start_time))"
      ],
      "execution_count": null,
      "outputs": [
        {
          "output_type": "stream",
          "name": "stdout",
          "text": [
            "[(['nm0767266'], 285), (['nm0006064'], 383), (['nm1058607'], 283), (['nm1894124'], 273), (['nm0006137'], 981), (['nm0415549'], 302), (['nm0793813'], 411), (['nm0482320'], 346), (['nm0005983'], 279), (['nm0688093'], 262), (['nm0701403'], 394), (['nm0706691'], 316), (['nm0994324'], 320), (['nm0588316'], 275), (['nm0756966'], 988), (['nm0374974'], 286), (['nm0997109'], 354), (['nm0046850'], 348), (['nm0004417'], 290), (['nm0222432'], 274), (['nm0462051'], 381), (['nm0006369'], 280), (['nm0623427'], 439), (['nm0232490'], 515), (['nm0619107'], 399), (['nm1047085'], 283), (['nm0001000'], 313), (['nm0619309'], 313), (['nm0035067'], 300), (['nm0001553'], 306), (['nm0000465'], 389), (['nm0453459'], 512), (['nm0222219'], 298), (['nm0644554'], 440), (['nm0649320'], 331), (['nm3183374'], 262), (['nm0006982'], 586), (['nm0648803'], 565), (['nm0304262'], 323), (['nm0005996'], 320), (['nm0191097'], 280), (['nm0004429'], 278), (['nm0006136'], 266), (['nm0960106'], 333), (['nm0023173'], 265), (['nm0473742'], 465), (['nm0006054'], 267), (['nm0419653'], 307), (['nm0246703'], 391), (['nm1352627'], 263), (['nm0156963'], 404), (['nm0788411'], 306), (['nm0534867'], 298), (['nm0619779'], 265), (['nm0627060'], 319), (['nm0103977'], 798), (['nm0305182'], 541), (['nm0261738'], 294), (['nm0007123'], 383), (['nm0659250'], 304), (['nm0457554'], 296), (['nm0006165'], 262), (['nm0497712'], 269), (['nm0007106'], 310), (['nm0910881'], 288), (['nm7390393'], 355), (['nm0149822'], 331), (['nm0411778'], 267), (['nm0481568'], 439), (['nm1350644'], 319), (['nm1930572'], 433), (['nm0000636'], 497), (['nm0939147'], 264), (('nm0473742', 'nm0701403'), 394)]\n",
            "Duration: 0:43:51.352858\n"
          ]
        }
      ]
    },
    {
      "cell_type": "markdown",
      "metadata": {
        "id": "oyBmoUAUaRnJ"
      },
      "source": [
        "**FP GROWTH**"
      ]
    },
    {
      "cell_type": "code",
      "metadata": {
        "id": "ryp9XOc0j4ML"
      },
      "source": [
        "#Displaying of frequent itemsets, association rules and predictions with FP-growth package\n",
        "\n",
        "from pyspark.ml.fpm import FPGrowth"
      ],
      "execution_count": 34,
      "outputs": []
    },
    {
      "cell_type": "code",
      "metadata": {
        "id": "qNtnnIxDQgpr",
        "colab": {
          "base_uri": "https://localhost:8080/",
          "height": 204
        },
        "outputId": "7d67fa1e-0698-4f91-f87c-0a9cb72e8d68"
      },
      "source": [
        "movie_baskets.toPandas().head(5)\n"
      ],
      "execution_count": 35,
      "outputs": [
        {
          "output_type": "execute_result",
          "data": {
            "text/html": [
              "<div>\n",
              "<style scoped>\n",
              "    .dataframe tbody tr th:only-of-type {\n",
              "        vertical-align: middle;\n",
              "    }\n",
              "\n",
              "    .dataframe tbody tr th {\n",
              "        vertical-align: top;\n",
              "    }\n",
              "\n",
              "    .dataframe thead th {\n",
              "        text-align: right;\n",
              "    }\n",
              "</style>\n",
              "<table border=\"1\" class=\"dataframe\">\n",
              "  <thead>\n",
              "    <tr style=\"text-align: right;\">\n",
              "      <th></th>\n",
              "      <th>tconst</th>\n",
              "      <th>actors</th>\n",
              "    </tr>\n",
              "  </thead>\n",
              "  <tbody>\n",
              "    <tr>\n",
              "      <th>0</th>\n",
              "      <td>tt0002591</td>\n",
              "      <td>[nm0029806, nm0509573, nm0296193]</td>\n",
              "    </tr>\n",
              "    <tr>\n",
              "      <th>1</th>\n",
              "      <td>tt0003689</td>\n",
              "      <td>[nm0910564, nm0527801, nm0399988, nm0101071, n...</td>\n",
              "    </tr>\n",
              "    <tr>\n",
              "      <th>2</th>\n",
              "      <td>tt0004272</td>\n",
              "      <td>[nm0092665, nm0368875, nm0492302, nm0445507, n...</td>\n",
              "    </tr>\n",
              "    <tr>\n",
              "      <th>3</th>\n",
              "      <td>tt0004336</td>\n",
              "      <td>[nm0916379, nm0268437, nm0811293, nm0102718, n...</td>\n",
              "    </tr>\n",
              "    <tr>\n",
              "      <th>4</th>\n",
              "      <td>tt0005209</td>\n",
              "      <td>[nm0148859, nm0593671, nm0331456, nm0226992, n...</td>\n",
              "    </tr>\n",
              "  </tbody>\n",
              "</table>\n",
              "</div>"
            ],
            "text/plain": [
              "      tconst                                             actors\n",
              "0  tt0002591                  [nm0029806, nm0509573, nm0296193]\n",
              "1  tt0003689  [nm0910564, nm0527801, nm0399988, nm0101071, n...\n",
              "2  tt0004272  [nm0092665, nm0368875, nm0492302, nm0445507, n...\n",
              "3  tt0004336  [nm0916379, nm0268437, nm0811293, nm0102718, n...\n",
              "4  tt0005209  [nm0148859, nm0593671, nm0331456, nm0226992, n..."
            ]
          },
          "metadata": {},
          "execution_count": 35
        }
      ]
    },
    {
      "cell_type": "code",
      "metadata": {
        "colab": {
          "base_uri": "https://localhost:8080/"
        },
        "id": "DYmGeUAqbEYQ",
        "outputId": "473af3ba-f02f-4fb2-e272-79a82986d73a"
      },
      "source": [
        "# Frequent Items and the duration of the FPGrowth algorithm with minSupport=0.0004, minConfidence=0\n",
        "import time\n",
        "start_time = time.time()\n",
        "fpGrowth = FPGrowth(itemsCol=\"actors\", minSupport=0.0004, minConfidence=0)\n",
        "model = fpGrowth.fit(movie_baskets)\n",
        "model.freqItemsets.show(truncate=False)\n",
        "end_time = time.time()\n",
        "print('Duration: {}'.format(end_time - start_time))"
      ],
      "execution_count": null,
      "outputs": [
        {
          "output_type": "stream",
          "name": "stdout",
          "text": [
            "+----------------------+----+\n",
            "|items                 |freq|\n",
            "+----------------------+----+\n",
            "|[nm0756966]           |988 |\n",
            "|[nm0006137]           |981 |\n",
            "|[nm0103977]           |798 |\n",
            "|[nm0006982]           |586 |\n",
            "|[nm0648803]           |565 |\n",
            "|[nm0305182]           |541 |\n",
            "|[nm0232490]           |515 |\n",
            "|[nm0453459]           |512 |\n",
            "|[nm0000636]           |497 |\n",
            "|[nm0473742]           |465 |\n",
            "|[nm0644554]           |440 |\n",
            "|[nm0623427]           |439 |\n",
            "|[nm0623427, nm0006982]|237 |\n",
            "|[nm0481568]           |439 |\n",
            "|[nm1930572]           |433 |\n",
            "|[nm0793813]           |411 |\n",
            "|[nm0156963]           |404 |\n",
            "|[nm0619107]           |399 |\n",
            "|[nm0701403]           |394 |\n",
            "|[nm0701403, nm0473742]|394 |\n",
            "+----------------------+----+\n",
            "only showing top 20 rows\n",
            "\n",
            "Duration: 37.7841579914093\n"
          ]
        }
      ]
    },
    {
      "cell_type": "code",
      "metadata": {
        "id": "o5DNMPx2Qgg3",
        "colab": {
          "base_uri": "https://localhost:8080/"
        },
        "outputId": "6f76e737-b901-4212-c197-d3a5536bb3f6"
      },
      "source": [
        "# Display frequent itemsets.\n",
        "mostPopularActorInABasket = model.freqItemsets\n",
        "mostPopularActorInABasket.createOrReplaceTempView(\"mostPopularActorInABasket\")\n",
        "mostPopularActorInABasket.sort('freq', ascending=False).show(truncate=False)\n",
        "\n",
        "# Display generated association rules.\n",
        "associationRules = model.associationRules\n",
        "associationRules.createOrReplaceTempView(\"associationRules\")\n",
        "associationRules.sort('confidence', ascending=False).show(truncate=False)\n",
        "\n",
        "# transform examines the input items against all the association rules and summarize the consequents as prediction\n",
        "associations = model.transform(movie_baskets)\n",
        "associations.sort('prediction', ascending=False).show(truncate=False)\n"
      ],
      "execution_count": null,
      "outputs": [
        {
          "output_type": "stream",
          "name": "stdout",
          "text": [
            "+----------------------+----+\n",
            "|items                 |freq|\n",
            "+----------------------+----+\n",
            "|[nm0756966]           |988 |\n",
            "|[nm0006137]           |981 |\n",
            "|[nm0103977]           |798 |\n",
            "|[nm0006982]           |586 |\n",
            "|[nm0648803]           |565 |\n",
            "|[nm0305182]           |541 |\n",
            "|[nm0232490]           |515 |\n",
            "|[nm0453459]           |512 |\n",
            "|[nm0000636]           |497 |\n",
            "|[nm0473742]           |465 |\n",
            "|[nm0644554]           |440 |\n",
            "|[nm0623427]           |439 |\n",
            "|[nm0481568]           |439 |\n",
            "|[nm1930572]           |433 |\n",
            "|[nm0793813]           |411 |\n",
            "|[nm0156963]           |404 |\n",
            "|[nm0619107]           |399 |\n",
            "|[nm0701403]           |394 |\n",
            "|[nm0701403, nm0473742]|394 |\n",
            "|[nm0246703]           |391 |\n",
            "+----------------------+----+\n",
            "only showing top 20 rows\n",
            "\n",
            "+-----------+-----------+------------------+------------------+--------------------+\n",
            "|antecedent |consequent |confidence        |lift              |support             |\n",
            "+-----------+-----------+------------------+------------------+--------------------+\n",
            "|[nm0701403]|[nm0473742]|1.0               |1124.210752688172 |7.536948262867331E-4|\n",
            "|[nm0473742]|[nm0701403]|0.8473118279569892|1124.2107526881719|7.536948262867331E-4|\n",
            "|[nm0623427]|[nm0006982]|0.5398633257403189|481.60046491016664|4.533646543907506E-4|\n",
            "|[nm0006982]|[nm0623427]|0.4044368600682594|481.60046491016664|4.533646543907506E-4|\n",
            "+-----------+-----------+------------------+------------------+--------------------+\n",
            "\n",
            "+---------+--------------------------------------------------------------------------------------------------------------+-----------+\n",
            "|tconst   |actors                                                                                                        |prediction |\n",
            "+---------+--------------------------------------------------------------------------------------------------------------+-----------+\n",
            "|tt4656662|[nm0473742]                                                                                                   |[nm0701403]|\n",
            "|tt0214866|[nm0006284, nm0473742, nm1123549, nm0023868, nm0007131, nm0004434, nm0004564, nm0315905, nm0004429, nm0006285]|[nm0701403]|\n",
            "|tt0247502|[nm0623416, nm0747131, nm0151300, nm0151293, nm0436464, nm2532852, nm0473742, nm2547685, nm0474876, nm0623178]|[nm0701403]|\n",
            "|tt0156745|[nm0897200, nm0438022, nm1433422, nm0473742, nm0474868, nm0612614, nm0315905, nm0004429, nm0080406, nm0611617]|[nm0701403]|\n",
            "|tt0099953|[nm0442396, nm0894346, nm1261023, nm0025630, nm0473742, nm0814193, nm0619777, nm0219971, nm0802080, nm0004569]|[nm0701403]|\n",
            "|tt0076527|[nm0434318, nm0451396, nm1396404, nm0473742, nm0795652, nm0000821, nm0220828, nm0802183, nm0004433, nm0707274]|[nm0701403]|\n",
            "|tt0306065|[nm0223354, nm0347899, nm0403827, nm0011996, nm0473742, nm0304369, nm0424102, nm0611582, nm0052570, nm0611535]|[nm0701403]|\n",
            "|tt0300033|[nm0623320, nm0451313, nm0623321, nm1672403, nm0430799, nm0473742, nm0006369, nm0179740, nm0716839, nm0154123]|[nm0701403]|\n",
            "|tt0244457|[nm0873036, nm0474850, nm1389106, nm0473742, nm1582733, nm0611531, nm0052570, nm0004429, nm0082848, nm0244887]|[nm0701403]|\n",
            "|tt0360145|[nm0451314, nm1347252, nm1193716, nm2226774, nm0473742, nm1714668, nm0659156, nm0802080, nm0004429, nm1295045]|[nm0701403]|\n",
            "|tt0155227|[nm0434318, nm1428876, nm0419685, nm0464075, nm1088936, nm0420090, nm0149822, nm0473742, nm0052630, nm0712432]|[nm0701403]|\n",
            "|tt0230346|[nm0422559, nm0538297, nm0420090, nm1062765, nm0430799, nm0473742, nm0004334, nm0474893, nm0004564, nm0004429]|[nm0701403]|\n",
            "|tt0233227|[nm0451396, nm0420090, nm0473742, nm0451387, nm0004334, nm0795652, nm2160957, nm0474827, nm1228532, nm1359852]|[nm0701403]|\n",
            "|tt0358063|[nm0596008, nm0473742, nm0622193, nm0159159, nm1618199, nm0781830, nm0004564, nm0713593, nm0315905, nm0004429]|[nm0701403]|\n",
            "|tt0104607|[nm0765454, nm0015459, nm0473742, nm0000821, nm1424689, nm0004437, nm0002172, nm1538238, nm0794364, nm1397176]|[nm0701403]|\n",
            "|tt0061650|[nm0420090, nm0619102, nm0011996, nm0473742, nm0619574, nm1224716, nm0038010, nm0437147, nm0045119, nm0044999]|[nm0701403]|\n",
            "|tt0103709|[nm0049245, nm0158339, nm0713615, nm0788159, nm0025630, nm0655353, nm0473742, nm0063357, nm0031924, nm1027929]|[nm0701403]|\n",
            "|tt0154412|[nm0045136, nm0838429, nm0420090, nm0473742, nm0154139, nm0619656, nm1122375, nm0052630, nm1077938, nm0004363]|[nm0701403]|\n",
            "|tt0268216|[nm0755997, nm0451166, nm1381505, nm0473742, nm1339788, nm0015000, nm2598150, nm1537744, nm0004564, nm0004429]|[nm0701403]|\n",
            "|tt0359143|[nm1656481, nm0013159, nm0352032, nm2176273, nm0473742, nm1213991, nm1196064, nm1226230, nm2147526, nm0894340]|[nm0701403]|\n",
            "+---------+--------------------------------------------------------------------------------------------------------------+-----------+\n",
            "only showing top 20 rows\n",
            "\n"
          ]
        }
      ]
    },
    {
      "cell_type": "code",
      "metadata": {
        "id": "gyNrdeHtQgbJ",
        "colab": {
          "base_uri": "https://localhost:8080/"
        },
        "outputId": "15f806cc-f95f-4e6b-8f6b-80fb65a6f72f"
      },
      "source": [
        "#Most frequent basket of items (containing at least 2 items)\n",
        "\n",
        "query = \"\"\"select items, freq\n",
        "           from mostPopularActorInABasket\n",
        "           where size(items) > 1\n",
        "           order by freq desc\n",
        "           limit 20\"\"\"\n",
        "spark.sql(query).show(truncate=False)"
      ],
      "execution_count": null,
      "outputs": [
        {
          "output_type": "stream",
          "name": "stdout",
          "text": [
            "+----------------------+----+\n",
            "|items                 |freq|\n",
            "+----------------------+----+\n",
            "|[nm0701403, nm0473742]|394 |\n",
            "|[nm0623427, nm0006982]|237 |\n",
            "+----------------------+----+\n",
            "\n"
          ]
        }
      ]
    },
    {
      "cell_type": "code",
      "metadata": {
        "id": "0yPG1nCqQgWD",
        "colab": {
          "base_uri": "https://localhost:8080/"
        },
        "outputId": "bbc8d741-fd72-4acb-e428-05a39b4121e8"
      },
      "source": [
        "#Association rules\n",
        "query = \"\"\"select antecedent as `antecedent (if)`, consequent as `consequent (then)`, confidence\n",
        "           from associationRules\n",
        "           order by confidence desc\n",
        "           limit 20\"\"\"\n",
        "\n",
        "spark.sql(query).show(truncate=False)"
      ],
      "execution_count": null,
      "outputs": [
        {
          "output_type": "stream",
          "name": "stdout",
          "text": [
            "+---------------+-----------------+------------------+\n",
            "|antecedent (if)|consequent (then)|confidence        |\n",
            "+---------------+-----------------+------------------+\n",
            "|[nm0701403]    |[nm0473742]      |1.0               |\n",
            "|[nm0473742]    |[nm0701403]      |0.8473118279569892|\n",
            "|[nm0623427]    |[nm0006982]      |0.5398633257403189|\n",
            "|[nm0006982]    |[nm0623427]      |0.4044368600682594|\n",
            "+---------------+-----------------+------------------+\n",
            "\n"
          ]
        }
      ]
    },
    {
      "cell_type": "markdown",
      "metadata": {
        "id": "JdtiAfDUDBWy"
      },
      "source": [
        "**APRIORI vs FP GROWTH**"
      ]
    },
    {
      "cell_type": "code",
      "metadata": {
        "id": "VbY_j6_iL8zQ"
      },
      "source": [
        "min_s=[522.758,470.4822,418.20640000000003,365.93059999999997,313.65479999999997]\n",
        "min_s=[0.001,0.0009,0.0008,0.0007,0.0006]\n",
        "dur=[659.1206583976746,323.02508568763733,160.63499426841736,107.05950427055359,97.63521099090576]\n",
        "min_s=[522.758,470.4822,418.20640000000003,365.93059999999997,313.65479999999997]\n"
      ],
      "execution_count": null,
      "outputs": []
    },
    {
      "cell_type": "markdown",
      "metadata": {
        "id": "AnAWe4VIDNkc"
      },
      "source": [
        "######**Running algorithms with different supports**"
      ]
    },
    {
      "cell_type": "code",
      "metadata": {
        "id": "7_rDWlJum3KN",
        "colab": {
          "base_uri": "https://localhost:8080/"
        },
        "outputId": "71b9c803-eafc-472c-b36e-6b64fd2f2152"
      },
      "source": [
        "#calculating different supports: \n",
        "min_s=[]\n",
        "for s in [0.0006,0.0007,0.0008,0.0009,0.001]:\n",
        "  count= transactions.count()        \n",
        "  min_support= s*count     \n",
        "  min_s.append(min_support)\n",
        "min_s"
      ],
      "execution_count": 36,
      "outputs": [
        {
          "output_type": "execute_result",
          "data": {
            "text/plain": [
              "[313.65479999999997, 365.93059999999997, 418.20640000000003, 470.4822, 522.758]"
            ]
          },
          "metadata": {},
          "execution_count": 36
        }
      ]
    },
    {
      "cell_type": "code",
      "metadata": {
        "id": "ph955fMo6r6g"
      },
      "source": [
        "# running apriori with supports in min_s: "
      ],
      "execution_count": null,
      "outputs": []
    },
    {
      "cell_type": "code",
      "metadata": {
        "id": "-zrTycjK7WX7",
        "colab": {
          "base_uri": "https://localhost:8080/"
        },
        "outputId": "96d46dd3-ae5b-40f6-d2b5-d1e8e97c4acf"
      },
      "source": [
        "count= transactions.count()        \n",
        "min_support= 0.0006*count     \n",
        "\n",
        "import time \n",
        "start_time = time.time()\n",
        "print(apriori(transactions, min_support).collect())\n",
        "end_time = time.time()\n",
        "dur=(end_time - start_time)\n",
        "dur"
      ],
      "execution_count": 41,
      "outputs": [
        {
          "output_type": "stream",
          "name": "stdout",
          "text": [
            "[(['nm0006064'], 383), (['nm0006137'], 981), (['nm0793813'], 411), (['nm0482320'], 346), (['nm0701403'], 394), (['nm0706691'], 316), (['nm0994324'], 320), (['nm0756966'], 988), (['nm0997109'], 354), (['nm0046850'], 348), (['nm0462051'], 381), (['nm0623427'], 439), (['nm0232490'], 515), (['nm0619107'], 399), (['nm0000465'], 389), (['nm0453459'], 512), (['nm0644554'], 440), (['nm0649320'], 331), (['nm0006982'], 586), (['nm0648803'], 565), (['nm0304262'], 323), (['nm0005996'], 320), (['nm0960106'], 333), (['nm0473742'], 465), (['nm0246703'], 391), (['nm0156963'], 404), (['nm0627060'], 319), (['nm0103977'], 798), (['nm0305182'], 541), (['nm0007123'], 383), (['nm7390393'], 355), (['nm0149822'], 331), (['nm0481568'], 439), (['nm1350644'], 319), (['nm1930572'], 433), (['nm0000636'], 497), (('nm0473742', 'nm0701403'), 394)]\n"
          ]
        },
        {
          "output_type": "execute_result",
          "data": {
            "text/plain": [
              "649.7880444526672"
            ]
          },
          "metadata": {},
          "execution_count": 41
        }
      ]
    },
    {
      "cell_type": "code",
      "metadata": {
        "id": "gik6l-ME76vH"
      },
      "source": [
        "#collecting execution time for different supports in a list\n",
        "\n",
        "dur=[649.7880444526672,309.48820424079895,154.0873875617981,99.6773374080658,92.28078770637512]"
      ],
      "execution_count": 42,
      "outputs": []
    },
    {
      "cell_type": "code",
      "metadata": {
        "id": "0-MEXUfWC9uk",
        "colab": {
          "base_uri": "https://localhost:8080/",
          "height": 411
        },
        "outputId": "9ed08148-4b0d-401e-bc83-bef319fe83d8"
      },
      "source": [
        "fig, ax = plt.subplots(linewidth = 2, figsize = (10,6))\n",
        "\n",
        "ax.plot(min_s,dur,linewidth = 3, color = 'darkblue',label=\"Apriori\")\n",
        "plt.ylabel('duration (seconds)',fontsize=15)\n",
        "plt.xlabel('support',fontsize=15)\n",
        "\n",
        "ax.legend(loc=1,fontsize=10)\n",
        "plt.title('Runtime vs Support',fontsize=15)\n",
        "\n",
        "\n",
        "plt.show()\n"
      ],
      "execution_count": 44,
      "outputs": [
        {
          "output_type": "display_data",
          "data": {
            "image/png": "[encoded data removed]",
            "text/plain": [
              "<Figure size 720x432 with 1 Axes>"
            ]
          },
          "metadata": {
            "needs_background": "light"
          }
        }
      ]
    },
    {
      "cell_type": "code",
      "metadata": {
        "colab": {
          "base_uri": "https://localhost:8080/"
        },
        "id": "53E3W38Hp4LW",
        "outputId": "02aa77eb-7279-4ac8-c9eb-f99df9151ae0"
      },
      "source": [
        "#running FP Growth with different supports\n",
        "\n",
        "dura_fp=[]\n",
        "for s in [0.0006,0.0007,0.0008,0.0009,0.001]:\n",
        "  start_time = time.time()\n",
        "  fpGrowth = FPGrowth(itemsCol=\"actors\", minSupport=s, minConfidence=0)\n",
        "  model = fpGrowth.fit(movie_baskets)\n",
        "  end_time = time.time()\n",
        "  dura_fp.append((end_time - start_time))\n",
        "dura_fp"
      ],
      "execution_count": 48,
      "outputs": [
        {
          "output_type": "execute_result",
          "data": {
            "text/plain": [
              "[19.71483325958252,\n",
              " 20.225846767425537,\n",
              " 19.956292152404785,\n",
              " 19.906930685043335,\n",
              " 20.25010895729065]"
            ]
          },
          "metadata": {},
          "execution_count": 48
        }
      ]
    },
    {
      "cell_type": "code",
      "metadata": {
        "colab": {
          "base_uri": "https://localhost:8080/",
          "height": 357
        },
        "id": "qflC3z8MEknr",
        "outputId": "cfe4b254-3d11-443f-9856-bf39114344b2"
      },
      "source": [
        "fig, ax = plt.subplots(linewidth = 2, figsize = (10,5))\n",
        "\n",
        "ax.plot(min_s,dura_fp,linewidth = 3, color = 'orange',label=\"FP-Growth\")\n",
        "plt.ylabel('duration (seconds)',fontsize=15)\n",
        "plt.xlabel('support',fontsize=15)\n",
        "ax.set_ylim([0, 60])\n",
        "ax.legend(loc=1,fontsize=10)\n",
        "plt.title('Runtime vs Support',fontsize=15)\n",
        "\n",
        "\n",
        "plt.show()"
      ],
      "execution_count": 49,
      "outputs": [
        {
          "output_type": "display_data",
          "data": {
            "image/png": "[encoded data removed]",
            "text/plain": [
              "<Figure size 720x360 with 1 Axes>"
            ]
          },
          "metadata": {
            "needs_background": "light"
          }
        }
      ]
    },
    {
      "cell_type": "code",
      "metadata": {
        "colab": {
          "base_uri": "https://localhost:8080/",
          "height": 428
        },
        "id": "A0q6JCvsBMbi",
        "outputId": "cc53b49f-9c06-4580-e36a-8ba6641017a8"
      },
      "source": [
        "fig, ax = plt.subplots(linewidth = 2, figsize = (10,6),\n",
        "                      )\n",
        "\n",
        "ax.plot(min_s,dur, label=\"Apriori\",linewidth = 3,color = 'darkblue')\n",
        "ax.plot(min_s,dura_fp,label=\"FP-growth\",linewidth = 3,color = 'orange')\n",
        "ax.legend(loc=1,fontsize=10); \n",
        "\n",
        "ax.set_title('Runtime vs Support', fontsize = 16)\n",
        "ax.set_xlabel('support', fontsize = 15)\n",
        "ax.set_ylabel('duration (seconds)', fontsize = 15)\n"
      ],
      "execution_count": 50,
      "outputs": [
        {
          "output_type": "execute_result",
          "data": {
            "text/plain": [
              "Text(0, 0.5, 'duration (seconds)')"
            ]
          },
          "metadata": {},
          "execution_count": 50
        },
        {
          "output_type": "display_data",
          "data": {
            "image/png": "[encoded data removed]",
            "text/plain": [
              "<Figure size 720x432 with 1 Axes>"
            ]
          },
          "metadata": {
            "needs_background": "light"
          }
        }
      ]
    },
    {
      "cell_type": "code",
      "metadata": {
        "id": "dVPrMDwdDsfD"
      },
      "source": [
        ""
      ],
      "execution_count": null,
      "outputs": []
    },
    {
      "cell_type": "markdown",
      "metadata": {
        "id": "2cowA11wDtGH"
      },
      "source": [
        "######**Running algorithms on different sizes of data**"
      ]
    },
    {
      "cell_type": "code",
      "metadata": {
        "id": "53fp5lzf8xnG"
      },
      "source": [
        "# Running the algorithms with fixed support on samples with different sizes"
      ],
      "execution_count": null,
      "outputs": []
    },
    {
      "cell_type": "code",
      "metadata": {
        "id": "0rheG5FR8J5a"
      },
      "source": [
        "# taking random samples from transactions for apriori [fractions: 0.1,0.2,0.3,0.4,0.5]\n",
        "sample=transactions.sample(False, 0.1, 81)\n",
        "count= sample.count()  \n",
        "min_support= 0.0005*count     "
      ],
      "execution_count": 56,
      "outputs": []
    },
    {
      "cell_type": "code",
      "metadata": {
        "id": "HVNzK2aq9mIp",
        "colab": {
          "base_uri": "https://localhost:8080/"
        },
        "outputId": "fc42260e-db5e-46b2-88d8-5aa375a104ed"
      },
      "source": [
        "start_time = time.time()\n",
        "print(apriori(sample, min_support).collect())\n",
        "end_time = time.time()\n",
        "print('Duration: {}'.format(end_time - start_time))"
      ],
      "execution_count": 57,
      "outputs": [
        {
          "output_type": "stream",
          "name": "stdout",
          "text": [
            "[(['nm0006182'], 27), (['nm0767266'], 36), (['nm0006064'], 34), (['nm0764762'], 29), (['nm1058607'], 33), (['nm0690143'], 30), (['nm0006285'], 27), (['nm1894124'], 30), (['nm0006137'], 95), (['nm0415549'], 33), (['nm1006879'], 28), (['nm0793813'], 38), (['nm0482320'], 38), (['nm0474820'], 29), (['nm0688093'], 28), (['nm0701403'], 45), (['nm0994324'], 31), (['nm0706691'], 36), (['nm0424420'], 27), (['nm0756966'], 92), (['nm0588316'], 27), (['nm0997109'], 28), (['nm0374974'], 29), (['nm0004417'], 33), (['nm0046850'], 46), (['nm0462051'], 38), (['nm0006369'], 31), (['nm0154164'], 31), (['nm0695177'], 27), (['nm0623427'], 43), (['nm0538632'], 32), (['nm0232490'], 56), (['nm0619107'], 35), (['nm0035067'], 34), (['nm0619309'], 33), (['nm0000465'], 45), (['nm0001553'], 27), (['nm0695199'], 34), (['nm0453459'], 43), (['nm0222219'], 33), (['nm0644554'], 45), (['nm1066229'], 27), (['nm0649320'], 32), (['nm0945487'], 28), (['nm3183374'], 27), (['nm0297793'], 30), (['nm0006982'], 64), (['nm0613417'], 28), (['nm0648803'], 58), (['nm0304262'], 33), (['nm1008497'], 27), (['nm0004429'], 31), (['nm0960106'], 32), (['nm0023173'], 28), (['nm0473742'], 53), (['nm0419653'], 35), (['nm0006054'], 29), (['nm0246703'], 36), (['nm1352627'], 27), (['nm0156963'], 47), (['nm0038256'], 28), (['nm0788411'], 28), (['nm0534867'], 30), (['nm0004463'], 29), (['nm0619779'], 34), (['nm0627060'], 32), (['nm0103977'], 72), (['nm0876561'], 31), (['nm0305182'], 65), (['nm0007123'], 45), (['nm0261738'], 39), (['nm0457554'], 33), (['nm0001238'], 29), (['nm0347953'], 28), (['nm0007106'], 33), (['nm0910881'], 29), (['nm0006275'], 30), (['nm7390393'], 30), (['nm0149822'], 34), (['nm1350644'], 28), (['nm0481568'], 53), (['nm0006284'], 29), (['nm0789956'], 27), (['nm1930572'], 47), (['nm0350659'], 31), (['nm0000636'], 48), (['nm0654710'], 30), (['nm0939147'], 28), (('nm0473742', 'nm0701403'), 45), (('nm0006982', 'nm0623427'), 28)]\n",
            "Duration: 451.4128632545471\n"
          ]
        }
      ]
    },
    {
      "cell_type": "code",
      "metadata": {
        "id": "95kG28iy9Nmw",
        "colab": {
          "base_uri": "https://localhost:8080/"
        },
        "outputId": "473c3b85-6d69-41c7-d1c3-bd14ba53e0b5"
      },
      "source": [
        "# taking random samples from movie_baskets for FP Growth [fractions: 0.1,0.2,0.3,0.4,0.5]\n",
        "sample=movie_baskets.sample(False, 0.5, 81)\n",
        "count= sample.count()  \n",
        "count\n"
      ],
      "execution_count": 58,
      "outputs": [
        {
          "output_type": "execute_result",
          "data": {
            "text/plain": [
              "261392"
            ]
          },
          "metadata": {},
          "execution_count": 58
        }
      ]
    },
    {
      "cell_type": "code",
      "metadata": {
        "id": "1C0UOsuM-TA-",
        "colab": {
          "base_uri": "https://localhost:8080/"
        },
        "outputId": "d716a2b7-47a3-48d0-d34b-16f1647f9e16"
      },
      "source": [
        "start_time = time.time()\n",
        "fpGrowth = FPGrowth(itemsCol=\"actors\", minSupport=0.0005, minConfidence=0)\n",
        "model = fpGrowth.fit(sample)\n",
        "end_time = time.time()\n",
        "print('Duration: {}'.format(end_time - start_time))"
      ],
      "execution_count": 59,
      "outputs": [
        {
          "output_type": "stream",
          "name": "stdout",
          "text": [
            "Duration: 25.700886726379395\n"
          ]
        }
      ]
    },
    {
      "cell_type": "code",
      "metadata": {
        "id": "0CpSAoNV-wiJ",
        "colab": {
          "base_uri": "https://localhost:8080/",
          "height": 409
        },
        "outputId": "20e3ea51-dd10-44e6-ef40-b3852766384d"
      },
      "source": [
        "sample_size_apr=[52315,104381,156594,209210,261461]\n",
        "duration_apr=[451.4128632545471,756.0039114952087,960.7192254066467,1358.4804191589355,1445.8749241828918]\n",
        "\n",
        "sample_size_fp=[52315,104953,156949,208907,261392]\n",
        "duration_fp=[16.86421537399292,19.648471117019653,22.420907258987427,24.999815702438354,29.51049566268921]\n",
        "fig, axes = plt.subplots(1, 2, figsize=(12,6))\n",
        "\n",
        "\n",
        "axes[0].plot(sample_size_apr, duration_apr,linewidth = 3, color = 'darkblue')\n",
        "axes[0].grid(color='b', alpha=0.5, linestyle='dashed', linewidth=0.5)\n",
        "axes[0].set_title(\"A-Priori\",fontsize = 15)\n",
        "axes[0].set_xlabel('data size', fontsize = 13)\n",
        "axes[0].set_ylabel('duration (seconds)', fontsize = 13)\n",
        "\n",
        "axes[1].plot(sample_size_fp, duration_fp,linewidth = 3, color = 'orange')\n",
        "axes[1].grid(color='b', alpha=0.5, linestyle='dashed', linewidth=0.5)\n",
        "axes[1].set_title(\"FP-Growth\",fontsize = 15)\n",
        "axes[1].set_xlabel('data size', fontsize = 13)\n",
        "axes[1].set_ylabel('duration (seconds)', fontsize = 13)\n",
        "\n",
        "\n",
        "plt.show()"
      ],
      "execution_count": 54,
      "outputs": [
        {
          "output_type": "display_data",
          "data": {
            "image/png": "[encoded data removed]",
            "text/plain": [
              "<Figure size 864x432 with 2 Axes>"
            ]
          },
          "metadata": {
            "needs_background": "light"
          }
        }
      ]
    },
    {
      "cell_type": "code",
      "metadata": {
        "id": "sZMyFmn0uZ5w"
      },
      "source": [
        ""
      ],
      "execution_count": null,
      "outputs": []
    }
  ]
}